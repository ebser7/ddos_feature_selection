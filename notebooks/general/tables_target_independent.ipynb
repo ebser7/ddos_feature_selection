{
 "metadata": {
  "language_info": {
   "codemirror_mode": {
    "name": "ipython",
    "version": 3
   },
   "file_extension": ".py",
   "mimetype": "text/x-python",
   "name": "python",
   "nbconvert_exporter": "python",
   "pygments_lexer": "ipython3",
   "version": "3.8.5-final"
  },
  "orig_nbformat": 2,
  "kernelspec": {
   "name": "python385jvsc74a57bd0510b46af242bc35de4b19e887511c39388b031023f9d415fefc5210631be64a9",
   "display_name": "Python 3.8.5 64-bit (conda)"
  }
 },
 "nbformat": 4,
 "nbformat_minor": 2,
 "cells": [
  {
   "cell_type": "code",
   "execution_count": 1,
   "metadata": {},
   "outputs": [],
   "source": [
    "import pandas as pd\n",
    "import pickle"
   ]
  },
  {
   "source": [
    "___\n",
    "\n",
    "# Loading Data"
   ],
   "cell_type": "markdown",
   "metadata": {}
  },
  {
   "source": [
    "### Binary Classifiers"
   ],
   "cell_type": "markdown",
   "metadata": {}
  },
  {
   "cell_type": "code",
   "execution_count": 2,
   "metadata": {},
   "outputs": [],
   "source": [
    "b_pfm_pre = pd.read_pickle(\"../../pickles/binary/pfm_pre.pkl\")\n",
    "b_pfm_basic = pd.read_pickle(\"../../pickles/binary/pfm_basic.pkl\")\n",
    "b_pfm_corr = pd.read_pickle(\"../../pickles/binary/pfm_corr.pkl\")"
   ]
  },
  {
   "source": [
    "### Multiclass Classifiers (Categorical Cross Entropy)"
   ],
   "cell_type": "markdown",
   "metadata": {}
  },
  {
   "cell_type": "code",
   "execution_count": 3,
   "metadata": {},
   "outputs": [],
   "source": [
    "m_cat_pfm_pre = pd.read_pickle(\"../../pickles/multiclass_categorical/pfm_pre.pkl\")\n",
    "m_cat_pfm_basic = pd.read_pickle(\"../../pickles/multiclass_categorical/pfm_basic.pkl\")\n",
    "m_cat_pfm_corr = pd.read_pickle(\"../../pickles/multiclass_categorical/pfm_corr.pkl\")"
   ]
  },
  {
   "source": [
    "### Multiclass Classifiers (One vs One)"
   ],
   "cell_type": "markdown",
   "metadata": {}
  },
  {
   "cell_type": "code",
   "execution_count": 4,
   "metadata": {},
   "outputs": [],
   "source": [
    "m_ovo_pfm_pre = pd.read_pickle(\"../../pickles/multiclass_one_vs_one/pfm_pre.pkl\")\n",
    "m_ovo_pfm_basic = pd.read_pickle(\"../../pickles/multiclass_one_vs_one/pfm_basic.pkl\")\n",
    "m_ovo_pfm_corr = pd.read_pickle(\"../../pickles/multiclass_one_vs_one/pfm_corr.pkl\")"
   ]
  },
  {
   "source": [
    "### Multiclass Classifiers (One vs Rest)\n"
   ],
   "cell_type": "markdown",
   "metadata": {}
  },
  {
   "cell_type": "code",
   "execution_count": 5,
   "metadata": {},
   "outputs": [],
   "source": [
    "m_ovr_pfm_pre = pd.read_pickle(\"../../pickles/multiclass_one_vs_rest/pfm_pre.pkl\")\n",
    "m_ovr_pfm_basic = pd.read_pickle(\"../../pickles/multiclass_one_vs_rest/pfm_basic.pkl\")\n",
    "m_ovr_pfm_corr = pd.read_pickle(\"../../pickles/multiclass_one_vs_rest/pfm_corr.pkl\")"
   ]
  },
  {
   "source": [
    "___\n",
    "\n",
    "# Performance"
   ],
   "cell_type": "markdown",
   "metadata": {}
  },
  {
   "source": [
    "### Helper Function"
   ],
   "cell_type": "markdown",
   "metadata": {}
  },
  {
   "cell_type": "code",
   "execution_count": 6,
   "metadata": {},
   "outputs": [],
   "source": [
    "def table_performance(pfm, method, decimals=2):\n",
    "    means = (pfm.mean()*100).round(decimals)\n",
    "    std = (pfm.std()*100).round(decimals)\n",
    "\n",
    "    columns = [\"Accuracy\", \"Precision\", \"Recall\", \"F1_Score\", \"Fit_Time\"]\n",
    "\n",
    "    means = means[columns]\n",
    "    std = std[columns]\n",
    "\n",
    "    df = pd.DataFrame()\n",
    "    df[\"Mean\"] = means.astype('string')\n",
    "    df[\"Std\"] = std.astype('string')\n",
    "    df[method] = df[\"Mean\"] + ' ± ' + df[\"Std\"]\n",
    "    df = pd.DataFrame(df[method])\n",
    "    df = df.T\n",
    "\n",
    "    return df"
   ]
  },
  {
   "source": [
    "### Tables"
   ],
   "cell_type": "markdown",
   "metadata": {}
  },
  {
   "cell_type": "code",
   "execution_count": 7,
   "metadata": {},
   "outputs": [
    {
     "output_type": "execute_result",
     "data": {
      "text/plain": [
       "                   Accuracy     Precision       Recall      F1_Score  \\\n",
       "Preprocessing  99.79 ± 0.23  99.85 ± 0.36  99.73 ± 0.4  99.79 ± 0.23   \n",
       "Basic Methods  99.79 ± 0.23  99.85 ± 0.36  99.73 ± 0.4  99.79 ± 0.23   \n",
       "Correlation    99.75 ± 0.27  99.81 ± 0.47  99.7 ± 0.39  99.75 ± 0.27   \n",
       "\n",
       "                   Fit_Time  \n",
       "Preprocessing  35.94 ± 0.92  \n",
       "Basic Methods   36.86 ± 0.9  \n",
       "Correlation     41.5 ± 5.92  "
      ],
      "text/html": "<div>\n<style scoped>\n    .dataframe tbody tr th:only-of-type {\n        vertical-align: middle;\n    }\n\n    .dataframe tbody tr th {\n        vertical-align: top;\n    }\n\n    .dataframe thead th {\n        text-align: right;\n    }\n</style>\n<table border=\"1\" class=\"dataframe\">\n  <thead>\n    <tr style=\"text-align: right;\">\n      <th></th>\n      <th>Accuracy</th>\n      <th>Precision</th>\n      <th>Recall</th>\n      <th>F1_Score</th>\n      <th>Fit_Time</th>\n    </tr>\n  </thead>\n  <tbody>\n    <tr>\n      <th>Preprocessing</th>\n      <td>99.79 ± 0.23</td>\n      <td>99.85 ± 0.36</td>\n      <td>99.73 ± 0.4</td>\n      <td>99.79 ± 0.23</td>\n      <td>35.94 ± 0.92</td>\n    </tr>\n    <tr>\n      <th>Basic Methods</th>\n      <td>99.79 ± 0.23</td>\n      <td>99.85 ± 0.36</td>\n      <td>99.73 ± 0.4</td>\n      <td>99.79 ± 0.23</td>\n      <td>36.86 ± 0.9</td>\n    </tr>\n    <tr>\n      <th>Correlation</th>\n      <td>99.75 ± 0.27</td>\n      <td>99.81 ± 0.47</td>\n      <td>99.7 ± 0.39</td>\n      <td>99.75 ± 0.27</td>\n      <td>41.5 ± 5.92</td>\n    </tr>\n  </tbody>\n</table>\n</div>"
     },
     "metadata": {},
     "execution_count": 7
    }
   ],
   "source": [
    "binary = pd.concat([table_performance(b_pfm_pre, \"Preprocessing\", 2),\n",
    "                   table_performance(b_pfm_basic, \"Basic Methods\", 2),\n",
    "                   table_performance(b_pfm_corr, \"Correlation\", 2)])\n",
    "binary"
   ]
  },
  {
   "cell_type": "code",
   "execution_count": 8,
   "metadata": {},
   "outputs": [
    {
     "output_type": "execute_result",
     "data": {
      "text/plain": [
       "                   Accuracy     Precision        Recall      F1_Score  \\\n",
       "Preprocessing  73.94 ± 1.64   74.3 ± 2.04  73.94 ± 1.64  72.97 ± 1.47   \n",
       "Basic Methods  73.94 ± 1.64   74.3 ± 2.04  73.94 ± 1.64  72.97 ± 1.47   \n",
       "Correlation    73.81 ± 1.85  74.17 ± 2.21  73.81 ± 1.85    72.8 ± 1.7   \n",
       "\n",
       "                     Fit_Time  \n",
       "Preprocessing  508.57 ± 28.39  \n",
       "Basic Methods  460.73 ± 32.56  \n",
       "Correlation    334.29 ± 11.03  "
      ],
      "text/html": "<div>\n<style scoped>\n    .dataframe tbody tr th:only-of-type {\n        vertical-align: middle;\n    }\n\n    .dataframe tbody tr th {\n        vertical-align: top;\n    }\n\n    .dataframe thead th {\n        text-align: right;\n    }\n</style>\n<table border=\"1\" class=\"dataframe\">\n  <thead>\n    <tr style=\"text-align: right;\">\n      <th></th>\n      <th>Accuracy</th>\n      <th>Precision</th>\n      <th>Recall</th>\n      <th>F1_Score</th>\n      <th>Fit_Time</th>\n    </tr>\n  </thead>\n  <tbody>\n    <tr>\n      <th>Preprocessing</th>\n      <td>73.94 ± 1.64</td>\n      <td>74.3 ± 2.04</td>\n      <td>73.94 ± 1.64</td>\n      <td>72.97 ± 1.47</td>\n      <td>508.57 ± 28.39</td>\n    </tr>\n    <tr>\n      <th>Basic Methods</th>\n      <td>73.94 ± 1.64</td>\n      <td>74.3 ± 2.04</td>\n      <td>73.94 ± 1.64</td>\n      <td>72.97 ± 1.47</td>\n      <td>460.73 ± 32.56</td>\n    </tr>\n    <tr>\n      <th>Correlation</th>\n      <td>73.81 ± 1.85</td>\n      <td>74.17 ± 2.21</td>\n      <td>73.81 ± 1.85</td>\n      <td>72.8 ± 1.7</td>\n      <td>334.29 ± 11.03</td>\n    </tr>\n  </tbody>\n</table>\n</div>"
     },
     "metadata": {},
     "execution_count": 8
    }
   ],
   "source": [
    "multiclass = pd.concat([table_performance(m_cat_pfm_pre, \"Preprocessing\", 2),\n",
    "                   table_performance(m_cat_pfm_basic, \"Basic Methods\", 2),\n",
    "                   table_performance(m_cat_pfm_corr, \"Correlation\", 2)])\n",
    "multiclass"
   ]
  },
  {
   "cell_type": "code",
   "execution_count": 9,
   "metadata": {},
   "outputs": [
    {
     "output_type": "execute_result",
     "data": {
      "text/plain": [
       "                  Accuracy     Precision       Recall      F1_Score  \\\n",
       "Preprocessing  74.3 ± 1.84  74.53 ± 2.21  74.3 ± 1.84  73.33 ± 1.67   \n",
       "Basic Methods  74.3 ± 1.84  74.53 ± 2.21  74.3 ± 1.84  73.33 ± 1.67   \n",
       "Correlation    74.28 ± 1.7  74.57 ± 2.11  74.28 ± 1.7  73.28 ± 1.61   \n",
       "\n",
       "                     Fit_Time  \n",
       "Preprocessing   837.16 ± 8.38  \n",
       "Basic Methods  835.93 ± 90.38  \n",
       "Correlation     671.65 ± 4.57  "
      ],
      "text/html": "<div>\n<style scoped>\n    .dataframe tbody tr th:only-of-type {\n        vertical-align: middle;\n    }\n\n    .dataframe tbody tr th {\n        vertical-align: top;\n    }\n\n    .dataframe thead th {\n        text-align: right;\n    }\n</style>\n<table border=\"1\" class=\"dataframe\">\n  <thead>\n    <tr style=\"text-align: right;\">\n      <th></th>\n      <th>Accuracy</th>\n      <th>Precision</th>\n      <th>Recall</th>\n      <th>F1_Score</th>\n      <th>Fit_Time</th>\n    </tr>\n  </thead>\n  <tbody>\n    <tr>\n      <th>Preprocessing</th>\n      <td>74.3 ± 1.84</td>\n      <td>74.53 ± 2.21</td>\n      <td>74.3 ± 1.84</td>\n      <td>73.33 ± 1.67</td>\n      <td>837.16 ± 8.38</td>\n    </tr>\n    <tr>\n      <th>Basic Methods</th>\n      <td>74.3 ± 1.84</td>\n      <td>74.53 ± 2.21</td>\n      <td>74.3 ± 1.84</td>\n      <td>73.33 ± 1.67</td>\n      <td>835.93 ± 90.38</td>\n    </tr>\n    <tr>\n      <th>Correlation</th>\n      <td>74.28 ± 1.7</td>\n      <td>74.57 ± 2.11</td>\n      <td>74.28 ± 1.7</td>\n      <td>73.28 ± 1.61</td>\n      <td>671.65 ± 4.57</td>\n    </tr>\n  </tbody>\n</table>\n</div>"
     },
     "metadata": {},
     "execution_count": 9
    }
   ],
   "source": [
    "ovo = pd.concat([table_performance(m_ovo_pfm_pre, \"Preprocessing\", 2),\n",
    "                   table_performance(m_ovo_pfm_basic, \"Basic Methods\", 2),\n",
    "                   table_performance(m_ovo_pfm_corr, \"Correlation\", 2)])\n",
    "ovo"
   ]
  },
  {
   "cell_type": "code",
   "execution_count": 10,
   "metadata": {},
   "outputs": [
    {
     "output_type": "execute_result",
     "data": {
      "text/plain": [
       "                   Accuracy     Precision        Recall      F1_Score  \\\n",
       "Preprocessing  74.38 ± 1.67  74.81 ± 2.16  74.38 ± 1.67  73.43 ± 1.55   \n",
       "Basic Methods  74.38 ± 1.67  74.81 ± 2.16  74.38 ± 1.67  73.43 ± 1.55   \n",
       "Correlation     74.05 ± 1.8  74.44 ± 2.25   74.05 ± 1.8   73.1 ± 1.67   \n",
       "\n",
       "                     Fit_Time  \n",
       "Preprocessing   700.52 ± 4.63  \n",
       "Basic Methods  630.25 ± 19.01  \n",
       "Correlation      441.2 ± 5.64  "
      ],
      "text/html": "<div>\n<style scoped>\n    .dataframe tbody tr th:only-of-type {\n        vertical-align: middle;\n    }\n\n    .dataframe tbody tr th {\n        vertical-align: top;\n    }\n\n    .dataframe thead th {\n        text-align: right;\n    }\n</style>\n<table border=\"1\" class=\"dataframe\">\n  <thead>\n    <tr style=\"text-align: right;\">\n      <th></th>\n      <th>Accuracy</th>\n      <th>Precision</th>\n      <th>Recall</th>\n      <th>F1_Score</th>\n      <th>Fit_Time</th>\n    </tr>\n  </thead>\n  <tbody>\n    <tr>\n      <th>Preprocessing</th>\n      <td>74.38 ± 1.67</td>\n      <td>74.81 ± 2.16</td>\n      <td>74.38 ± 1.67</td>\n      <td>73.43 ± 1.55</td>\n      <td>700.52 ± 4.63</td>\n    </tr>\n    <tr>\n      <th>Basic Methods</th>\n      <td>74.38 ± 1.67</td>\n      <td>74.81 ± 2.16</td>\n      <td>74.38 ± 1.67</td>\n      <td>73.43 ± 1.55</td>\n      <td>630.25 ± 19.01</td>\n    </tr>\n    <tr>\n      <th>Correlation</th>\n      <td>74.05 ± 1.8</td>\n      <td>74.44 ± 2.25</td>\n      <td>74.05 ± 1.8</td>\n      <td>73.1 ± 1.67</td>\n      <td>441.2 ± 5.64</td>\n    </tr>\n  </tbody>\n</table>\n</div>"
     },
     "metadata": {},
     "execution_count": 10
    }
   ],
   "source": [
    "ovr = pd.concat([table_performance(m_ovr_pfm_pre, \"Preprocessing\", 2),\n",
    "                   table_performance(m_ovr_pfm_basic, \"Basic Methods\", 2),\n",
    "                   table_performance(m_ovr_pfm_corr, \"Correlation\", 2)])\n",
    "ovr"
   ]
  },
  {
   "cell_type": "code",
   "execution_count": 11,
   "metadata": {},
   "outputs": [
    {
     "output_type": "execute_result",
     "data": {
      "text/plain": [
       "               Binary  Multiclass  OvO  OvR\n",
       "Preprocessing      77          77   77   77\n",
       "Basic_Methods      63          61   61   61\n",
       "Correlation        41          36   36   36"
      ],
      "text/html": "<div>\n<style scoped>\n    .dataframe tbody tr th:only-of-type {\n        vertical-align: middle;\n    }\n\n    .dataframe tbody tr th {\n        vertical-align: top;\n    }\n\n    .dataframe thead th {\n        text-align: right;\n    }\n</style>\n<table border=\"1\" class=\"dataframe\">\n  <thead>\n    <tr style=\"text-align: right;\">\n      <th></th>\n      <th>Binary</th>\n      <th>Multiclass</th>\n      <th>OvO</th>\n      <th>OvR</th>\n    </tr>\n  </thead>\n  <tbody>\n    <tr>\n      <th>Preprocessing</th>\n      <td>77</td>\n      <td>77</td>\n      <td>77</td>\n      <td>77</td>\n    </tr>\n    <tr>\n      <th>Basic_Methods</th>\n      <td>63</td>\n      <td>61</td>\n      <td>61</td>\n      <td>61</td>\n    </tr>\n    <tr>\n      <th>Correlation</th>\n      <td>41</td>\n      <td>36</td>\n      <td>36</td>\n      <td>36</td>\n    </tr>\n  </tbody>\n</table>\n</div>"
     },
     "metadata": {},
     "execution_count": 11
    }
   ],
   "source": [
    "data = {\n",
    "    \"Binary\": [b_pfm_pre[\"Number_Features\"].mean(), \n",
    "                b_pfm_basic[\"Number_Features\"].mean(),\n",
    "                b_pfm_corr[\"Number_Features\"].mean()],\n",
    "    \"Multiclass\": [m_cat_pfm_pre[\"Number_Features\"].mean(),\n",
    "                    m_cat_pfm_basic[\"Number_Features\"].mean(),\n",
    "                    m_cat_pfm_corr[\"Number_Features\"].mean()],\n",
    "    \"OvO\": [m_ovo_pfm_pre[\"Number_Features\"].mean(),\n",
    "            m_ovo_pfm_basic[\"Number_Features\"].mean(),\n",
    "            m_ovo_pfm_corr[\"Number_Features\"].mean()],\n",
    "    \"OvR\": [m_ovr_pfm_pre[\"Number_Features\"].mean(),\n",
    "            m_ovr_pfm_basic[\"Number_Features\"].mean(),\n",
    "            m_ovr_pfm_corr[\"Number_Features\"].mean()],\n",
    "\n",
    "}\n",
    "features = pd.DataFrame.from_dict(data)\n",
    "features = features.astype('int')\n",
    "features.index = [\"Preprocessing\", \"Basic_Methods\", \"Correlation\"]\n",
    "features"
   ]
  }
 ]
}