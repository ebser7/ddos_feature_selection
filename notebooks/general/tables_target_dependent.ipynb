{
 "metadata": {
  "language_info": {
   "codemirror_mode": {
    "name": "ipython",
    "version": 3
   },
   "file_extension": ".py",
   "mimetype": "text/x-python",
   "name": "python",
   "nbconvert_exporter": "python",
   "pygments_lexer": "ipython3",
   "version": "3.8.5"
  },
  "orig_nbformat": 2,
  "kernelspec": {
   "name": "python385jvsc74a57bd0510b46af242bc35de4b19e887511c39388b031023f9d415fefc5210631be64a9",
   "display_name": "Python 3.8.5 64-bit (conda)"
  }
 },
 "nbformat": 4,
 "nbformat_minor": 2,
 "cells": [
  {
   "cell_type": "code",
   "execution_count": 41,
   "metadata": {},
   "outputs": [],
   "source": [
    "import pandas as pd\n",
    "import pickle"
   ]
  },
  {
   "source": [
    "___\n",
    "\n",
    "# Loading Data"
   ],
   "cell_type": "markdown",
   "metadata": {}
  },
  {
   "source": [
    "### Binary Classifiers"
   ],
   "cell_type": "markdown",
   "metadata": {}
  },
  {
   "cell_type": "code",
   "execution_count": 42,
   "metadata": {},
   "outputs": [],
   "source": [
    "b_pfm_anova = pd.read_pickle(\"../../pickles/binary/pfm_anova.pkl\")\n",
    "b_pfm_mi = pd.read_pickle(\"../../pickles/binary/pfm_mi.pkl\")\n",
    "b_pfm_relieff = pd.read_pickle(\"../../pickles/binary/pfm_relieff.pkl\")\n",
    "b_pfm_xgb_gain = pd.read_pickle(\"../../pickles/binary/pfm_xgb_gain.pkl\")\n",
    "b_pfm_rfe = pd.read_pickle(\"../../pickles/binary/pfm_rfe.pkl\")\n",
    "b_pfm_wrfs = pd.read_pickle(\"../../pickles/binary/pfm_wrfs.pkl\")"
   ]
  },
  {
   "source": [
    "### Multiclass Classifiers (Categorical Cross Entropy)"
   ],
   "cell_type": "markdown",
   "metadata": {}
  },
  {
   "cell_type": "code",
   "execution_count": 43,
   "metadata": {},
   "outputs": [],
   "source": [
    "m_cat_pfm_anova = pd.read_pickle(\"../../pickles/multiclass_categorical/pfm_anova.pkl\")\n",
    "m_cat_pfm_mi = pd.read_pickle(\"../../pickles/multiclass_categorical/pfm_mi.pkl\")\n",
    "m_cat_pfm_relieff = pd.read_pickle(\"../../pickles/multiclass_categorical/pfm_relieff.pkl\")\n",
    "m_cat_pfm_xgb_gain = pd.read_pickle(\"../../pickles/multiclass_categorical/pfm_xgb_gain.pkl\")\n",
    "m_cat_pfm_rfe = pd.read_pickle(\"../../pickles/multiclass_categorical/pfm_rfe.pkl\")\n",
    "m_cat_pfm_wrfs = pd.read_pickle(\"../../pickles/multiclass_categorical/pfm_wrfs.pkl\")"
   ]
  },
  {
   "source": [
    "### Multiclass Classifiers (One vs One)"
   ],
   "cell_type": "markdown",
   "metadata": {}
  },
  {
   "cell_type": "code",
   "execution_count": 44,
   "metadata": {},
   "outputs": [],
   "source": [
    "m_ovo_pfm_anova = pd.read_pickle(\"../../pickles/multiclass_one_vs_one/pfm_anova.pkl\")\n",
    "m_ovo_pfm_mi = pd.read_pickle(\"../../pickles/multiclass_one_vs_one/pfm_mi.pkl\")\n",
    "m_ovo_pfm_relieff = pd.read_pickle(\"../../pickles/multiclass_one_vs_one/pfm_relieff.pkl\")\n",
    "m_ovo_pfm_xgb_gain = pd.read_pickle(\"../../pickles/multiclass_one_vs_one/pfm_xgb_gain.pkl\")\n",
    "m_ovo_pfm_rfe = pd.read_pickle(\"../../pickles/multiclass_one_vs_one/pfm_rfe.pkl\")\n",
    "m_ovo_pfm_wrfs = pd.read_pickle(\"../../pickles/multiclass_one_vs_one/pfm_wrfs.pkl\")"
   ]
  },
  {
   "source": [
    "### Multiclass Classifiers (One vs Rest)\n"
   ],
   "cell_type": "markdown",
   "metadata": {}
  },
  {
   "cell_type": "code",
   "execution_count": 45,
   "metadata": {},
   "outputs": [],
   "source": [
    "m_ovr_pfm_anova = pd.read_pickle(\"../../pickles/multiclass_one_vs_rest/pfm_anova.pkl\")\n",
    "m_ovr_pfm_mi = pd.read_pickle(\"../../pickles/multiclass_one_vs_rest/pfm_mi.pkl\")\n",
    "m_ovr_pfm_relieff = pd.read_pickle(\"../../pickles/multiclass_one_vs_rest/pfm_relieff.pkl\")\n",
    "m_ovr_pfm_xgb_gain = pd.read_pickle(\"../../pickles/multiclass_one_vs_rest/pfm_xgb_gain.pkl\")\n",
    "m_ovr_pfm_rfe = pd.read_pickle(\"../../pickles/multiclass_one_vs_rest/pfm_rfe.pkl\")\n",
    "m_ovr_pfm_wrfs = pd.read_pickle(\"../../pickles/multiclass_one_vs_rest/pfm_wrfs.pkl\")"
   ]
  },
  {
   "source": [
    "___\n",
    "\n",
    "# Performance"
   ],
   "cell_type": "markdown",
   "metadata": {}
  },
  {
   "source": [
    "### Helper Function"
   ],
   "cell_type": "markdown",
   "metadata": {}
  },
  {
   "cell_type": "code",
   "execution_count": 46,
   "metadata": {},
   "outputs": [],
   "source": [
    "def table_performance(pfm, method, features, decimals=2):\n",
    "    means = (pfm[features-1].mean()*100).round(decimals)\n",
    "    std = (pfm[features-1].std()*100).round(decimals)\n",
    "\n",
    "    #columns = [\"Accuracy\", \"Precision\", \"Recall\", \"F1_Score\", \"Fit_Time\"]\n",
    "    columns = [\"Accuracy\", \"F1_Score\", \"Fit_Time\"]\n",
    "\n",
    "    means = means[columns]\n",
    "    std = std[columns]\n",
    "\n",
    "    df = pd.DataFrame()\n",
    "    df[\"Mean\"] = means.astype('string')\n",
    "    df[\"Std\"] = std.astype('string')\n",
    "    df[method] = df[\"Mean\"] + ' ± ' + df[\"Std\"]\n",
    "    df = pd.DataFrame(df[method])\n",
    "    df = df.T\n",
    "\n",
    "    return df"
   ]
  },
  {
   "source": [
    "### Tables"
   ],
   "cell_type": "markdown",
   "metadata": {}
  },
  {
   "cell_type": "code",
   "execution_count": 47,
   "metadata": {},
   "outputs": [],
   "source": [
    "number_features = 15"
   ]
  },
  {
   "cell_type": "code",
   "execution_count": 48,
   "metadata": {},
   "outputs": [
    {
     "output_type": "execute_result",
     "data": {
      "text/plain": [
       "                        Accuracy      F1_Score        Fit_Time\n",
       "ANOVA               99.73 ± 0.22  99.73 ± 0.22    19.55 ± 1.79\n",
       "Mutual Information  97.44 ± 0.69  97.48 ± 0.68   169.6 ± 10.98\n",
       "ReliefF             99.43 ± 0.28  99.43 ± 0.28  147.71 ± 14.09\n",
       "XGBoost Gain        99.77 ± 0.23  99.77 ± 0.23     63.5 ± 1.84\n",
       "RFE                 99.77 ± 0.23  99.77 ± 0.23  993.42 ± 28.74\n",
       "Ensemble            99.77 ± 0.23  99.77 ± 0.23  325.91 ± 11.53"
      ],
      "text/html": "<div>\n<style scoped>\n    .dataframe tbody tr th:only-of-type {\n        vertical-align: middle;\n    }\n\n    .dataframe tbody tr th {\n        vertical-align: top;\n    }\n\n    .dataframe thead th {\n        text-align: right;\n    }\n</style>\n<table border=\"1\" class=\"dataframe\">\n  <thead>\n    <tr style=\"text-align: right;\">\n      <th></th>\n      <th>Accuracy</th>\n      <th>F1_Score</th>\n      <th>Fit_Time</th>\n    </tr>\n  </thead>\n  <tbody>\n    <tr>\n      <th>ANOVA</th>\n      <td>99.73 ± 0.22</td>\n      <td>99.73 ± 0.22</td>\n      <td>19.55 ± 1.79</td>\n    </tr>\n    <tr>\n      <th>Mutual Information</th>\n      <td>97.44 ± 0.69</td>\n      <td>97.48 ± 0.68</td>\n      <td>169.6 ± 10.98</td>\n    </tr>\n    <tr>\n      <th>ReliefF</th>\n      <td>99.43 ± 0.28</td>\n      <td>99.43 ± 0.28</td>\n      <td>147.71 ± 14.09</td>\n    </tr>\n    <tr>\n      <th>XGBoost Gain</th>\n      <td>99.77 ± 0.23</td>\n      <td>99.77 ± 0.23</td>\n      <td>63.5 ± 1.84</td>\n    </tr>\n    <tr>\n      <th>RFE</th>\n      <td>99.77 ± 0.23</td>\n      <td>99.77 ± 0.23</td>\n      <td>993.42 ± 28.74</td>\n    </tr>\n    <tr>\n      <th>Ensemble</th>\n      <td>99.77 ± 0.23</td>\n      <td>99.77 ± 0.23</td>\n      <td>325.91 ± 11.53</td>\n    </tr>\n  </tbody>\n</table>\n</div>"
     },
     "metadata": {},
     "execution_count": 48
    }
   ],
   "source": [
    "binary = pd.concat([table_performance(b_pfm_anova, \"ANOVA\", number_features, 2),\n",
    "                    table_performance(b_pfm_mi, \"Mutual Information\", number_features, 2),\n",
    "                    table_performance(b_pfm_relieff, \"ReliefF\", number_features, 2),\n",
    "                    table_performance(b_pfm_xgb_gain, \"XGBoost Gain\", number_features, 2),\n",
    "                    table_performance(b_pfm_rfe, \"RFE\", number_features, 2),\n",
    "                    table_performance(b_pfm_wrfs, \"Ensemble\", number_features, 2)])\n",
    "binary"
   ]
  },
  {
   "cell_type": "code",
   "execution_count": 49,
   "metadata": {},
   "outputs": [
    {
     "output_type": "execute_result",
     "data": {
      "text/plain": [
       "                        Accuracy      F1_Score        Fit_Time\n",
       "ANOVA               72.97 ± 1.68  71.55 ± 1.76   216.72 ± 1.99\n",
       "Mutual Information  73.66 ± 1.76  72.68 ± 1.51    443.4 ± 2.71\n",
       "ReliefF             72.35 ± 1.75  70.57 ± 1.87   315.39 ± 2.79\n",
       "XGBoost Gain        73.11 ± 1.72    71.7 ± 1.8    730.3 ± 9.45\n",
       "RFE                 72.52 ± 1.98  70.88 ± 2.41  8934.0 ± 72.24\n",
       "Ensemble             72.9 ± 1.67  71.49 ± 1.77   944.28 ± 5.88"
      ],
      "text/html": "<div>\n<style scoped>\n    .dataframe tbody tr th:only-of-type {\n        vertical-align: middle;\n    }\n\n    .dataframe tbody tr th {\n        vertical-align: top;\n    }\n\n    .dataframe thead th {\n        text-align: right;\n    }\n</style>\n<table border=\"1\" class=\"dataframe\">\n  <thead>\n    <tr style=\"text-align: right;\">\n      <th></th>\n      <th>Accuracy</th>\n      <th>F1_Score</th>\n      <th>Fit_Time</th>\n    </tr>\n  </thead>\n  <tbody>\n    <tr>\n      <th>ANOVA</th>\n      <td>72.97 ± 1.68</td>\n      <td>71.55 ± 1.76</td>\n      <td>216.72 ± 1.99</td>\n    </tr>\n    <tr>\n      <th>Mutual Information</th>\n      <td>73.66 ± 1.76</td>\n      <td>72.68 ± 1.51</td>\n      <td>443.4 ± 2.71</td>\n    </tr>\n    <tr>\n      <th>ReliefF</th>\n      <td>72.35 ± 1.75</td>\n      <td>70.57 ± 1.87</td>\n      <td>315.39 ± 2.79</td>\n    </tr>\n    <tr>\n      <th>XGBoost Gain</th>\n      <td>73.11 ± 1.72</td>\n      <td>71.7 ± 1.8</td>\n      <td>730.3 ± 9.45</td>\n    </tr>\n    <tr>\n      <th>RFE</th>\n      <td>72.52 ± 1.98</td>\n      <td>70.88 ± 2.41</td>\n      <td>8934.0 ± 72.24</td>\n    </tr>\n    <tr>\n      <th>Ensemble</th>\n      <td>72.9 ± 1.67</td>\n      <td>71.49 ± 1.77</td>\n      <td>944.28 ± 5.88</td>\n    </tr>\n  </tbody>\n</table>\n</div>"
     },
     "metadata": {},
     "execution_count": 49
    }
   ],
   "source": [
    "multiclass = pd.concat([table_performance(m_cat_pfm_anova, \"ANOVA\", number_features, 2),\n",
    "                        table_performance(m_cat_pfm_mi, \"Mutual Information\", number_features, 2),\n",
    "                        table_performance(m_cat_pfm_relieff, \"ReliefF\", number_features, 2),\n",
    "                        table_performance(m_cat_pfm_xgb_gain, \"XGBoost Gain\", number_features, 2),\n",
    "                        table_performance(m_cat_pfm_rfe, \"RFE\", number_features, 2),\n",
    "                        table_performance(m_cat_pfm_wrfs, \"Ensemble\", number_features, 2)])\n",
    "multiclass"
   ]
  },
  {
   "cell_type": "code",
   "execution_count": 50,
   "metadata": {},
   "outputs": [
    {
     "output_type": "execute_result",
     "data": {
      "text/plain": [
       "                        Accuracy      F1_Score          Fit_Time\n",
       "ANOVA               72.77 ± 1.83   71.25 ± 1.9     572.95 ± 2.78\n",
       "Mutual Information    73.9 ± 1.9  72.92 ± 1.79     764.75 ± 3.54\n",
       "ReliefF             72.12 ± 1.54  70.32 ± 1.63     672.56 ± 2.38\n",
       "XGBoost Gain        72.97 ± 1.72  71.47 ± 1.81    1093.75 ± 7.86\n",
       "RFE                 72.63 ± 1.94  70.93 ± 2.33  9462.92 ± 108.25\n",
       "Ensemble            72.88 ± 1.86   71.37 ± 2.0    1275.16 ± 4.55"
      ],
      "text/html": "<div>\n<style scoped>\n    .dataframe tbody tr th:only-of-type {\n        vertical-align: middle;\n    }\n\n    .dataframe tbody tr th {\n        vertical-align: top;\n    }\n\n    .dataframe thead th {\n        text-align: right;\n    }\n</style>\n<table border=\"1\" class=\"dataframe\">\n  <thead>\n    <tr style=\"text-align: right;\">\n      <th></th>\n      <th>Accuracy</th>\n      <th>F1_Score</th>\n      <th>Fit_Time</th>\n    </tr>\n  </thead>\n  <tbody>\n    <tr>\n      <th>ANOVA</th>\n      <td>72.77 ± 1.83</td>\n      <td>71.25 ± 1.9</td>\n      <td>572.95 ± 2.78</td>\n    </tr>\n    <tr>\n      <th>Mutual Information</th>\n      <td>73.9 ± 1.9</td>\n      <td>72.92 ± 1.79</td>\n      <td>764.75 ± 3.54</td>\n    </tr>\n    <tr>\n      <th>ReliefF</th>\n      <td>72.12 ± 1.54</td>\n      <td>70.32 ± 1.63</td>\n      <td>672.56 ± 2.38</td>\n    </tr>\n    <tr>\n      <th>XGBoost Gain</th>\n      <td>72.97 ± 1.72</td>\n      <td>71.47 ± 1.81</td>\n      <td>1093.75 ± 7.86</td>\n    </tr>\n    <tr>\n      <th>RFE</th>\n      <td>72.63 ± 1.94</td>\n      <td>70.93 ± 2.33</td>\n      <td>9462.92 ± 108.25</td>\n    </tr>\n    <tr>\n      <th>Ensemble</th>\n      <td>72.88 ± 1.86</td>\n      <td>71.37 ± 2.0</td>\n      <td>1275.16 ± 4.55</td>\n    </tr>\n  </tbody>\n</table>\n</div>"
     },
     "metadata": {},
     "execution_count": 50
    }
   ],
   "source": [
    "ovo = pd.concat([table_performance(m_ovo_pfm_anova, \"ANOVA\", number_features, 2),\n",
    "                table_performance(m_ovo_pfm_mi, \"Mutual Information\", number_features, 2),\n",
    "                table_performance(m_ovo_pfm_relieff, \"ReliefF\", number_features, 2),\n",
    "                table_performance(m_ovo_pfm_xgb_gain, \"XGBoost Gain\", number_features, 2),\n",
    "                table_performance(m_ovo_pfm_rfe, \"RFE\", number_features, 2),\n",
    "                table_performance(m_ovo_pfm_wrfs, \"Ensemble\", number_features, 2)])\n",
    "ovo"
   ]
  },
  {
   "cell_type": "code",
   "execution_count": 51,
   "metadata": {},
   "outputs": [
    {
     "output_type": "execute_result",
     "data": {
      "text/plain": [
       "                        Accuracy      F1_Score          Fit_Time\n",
       "ANOVA               73.31 ± 1.69  71.87 ± 1.81    293.71 ± 13.32\n",
       "Mutual Information  73.88 ± 1.81   72.9 ± 1.63     513.56 ± 2.45\n",
       "ReliefF             72.29 ± 1.57  70.46 ± 1.57     392.47 ± 5.11\n",
       "XGBoost Gain        73.18 ± 1.54  71.67 ± 1.56    822.48 ± 23.07\n",
       "RFE                 73.01 ± 1.84  71.27 ± 2.22  9223.43 ± 176.54\n",
       "Ensemble            73.39 ± 1.93  71.91 ± 2.05   1039.81 ± 23.22"
      ],
      "text/html": "<div>\n<style scoped>\n    .dataframe tbody tr th:only-of-type {\n        vertical-align: middle;\n    }\n\n    .dataframe tbody tr th {\n        vertical-align: top;\n    }\n\n    .dataframe thead th {\n        text-align: right;\n    }\n</style>\n<table border=\"1\" class=\"dataframe\">\n  <thead>\n    <tr style=\"text-align: right;\">\n      <th></th>\n      <th>Accuracy</th>\n      <th>F1_Score</th>\n      <th>Fit_Time</th>\n    </tr>\n  </thead>\n  <tbody>\n    <tr>\n      <th>ANOVA</th>\n      <td>73.31 ± 1.69</td>\n      <td>71.87 ± 1.81</td>\n      <td>293.71 ± 13.32</td>\n    </tr>\n    <tr>\n      <th>Mutual Information</th>\n      <td>73.88 ± 1.81</td>\n      <td>72.9 ± 1.63</td>\n      <td>513.56 ± 2.45</td>\n    </tr>\n    <tr>\n      <th>ReliefF</th>\n      <td>72.29 ± 1.57</td>\n      <td>70.46 ± 1.57</td>\n      <td>392.47 ± 5.11</td>\n    </tr>\n    <tr>\n      <th>XGBoost Gain</th>\n      <td>73.18 ± 1.54</td>\n      <td>71.67 ± 1.56</td>\n      <td>822.48 ± 23.07</td>\n    </tr>\n    <tr>\n      <th>RFE</th>\n      <td>73.01 ± 1.84</td>\n      <td>71.27 ± 2.22</td>\n      <td>9223.43 ± 176.54</td>\n    </tr>\n    <tr>\n      <th>Ensemble</th>\n      <td>73.39 ± 1.93</td>\n      <td>71.91 ± 2.05</td>\n      <td>1039.81 ± 23.22</td>\n    </tr>\n  </tbody>\n</table>\n</div>"
     },
     "metadata": {},
     "execution_count": 51
    }
   ],
   "source": [
    "ovr = pd.concat([table_performance(m_ovr_pfm_anova, \"ANOVA\", number_features, 2),\n",
    "                table_performance(m_ovr_pfm_mi, \"Mutual Information\", number_features, 2),\n",
    "                table_performance(m_ovr_pfm_relieff, \"ReliefF\", number_features, 2),\n",
    "                table_performance(m_ovr_pfm_xgb_gain, \"XGBoost Gain\", number_features, 2),\n",
    "                table_performance(m_ovr_pfm_rfe, \"RFE\", number_features, 2),\n",
    "                table_performance(m_ovr_pfm_wrfs, \"Ensemble\", number_features, 2)])\n",
    "ovr"
   ]
  }
 ]
}