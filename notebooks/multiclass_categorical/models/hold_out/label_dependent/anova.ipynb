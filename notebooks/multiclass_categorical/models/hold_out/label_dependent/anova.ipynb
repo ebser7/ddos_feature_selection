{
 "cells": [
  {
   "cell_type": "code",
   "execution_count": 1,
   "metadata": {},
   "outputs": [],
   "source": [
    "import pandas as pd\n",
    "import matplotlib.pyplot as plt\n",
    "from sklearn.model_selection import train_test_split # split  data into training and testing sets\n",
    "from sklearn.metrics import plot_confusion_matrix # draws a confusion matrix\n",
    "from sklearn.metrics import accuracy_score, precision_score, recall_score, f1_score\n",
    "from sklearn.metrics import classification_report\n",
    "import xgboost as xgb\n",
    "from sklearn.feature_selection import SelectKBest\n",
    "from sklearn.feature_selection import f_classif\n",
    "import time\n",
    "import pickle"
   ]
  },
  {
   "cell_type": "code",
   "execution_count": 2,
   "metadata": {},
   "outputs": [],
   "source": [
    "root = \"../../../../../\""
   ]
  },
  {
   "cell_type": "code",
   "execution_count": 3,
   "metadata": {},
   "outputs": [],
   "source": [
    "df = pd.read_csv(root + \"datasets/multiclass/processed/CICDDoS_corr.csv\", index_col=[0])"
   ]
  },
  {
   "cell_type": "code",
   "execution_count": 4,
   "metadata": {},
   "outputs": [
    {
     "data": {
      "text/html": [
       "<div>\n",
       "<style scoped>\n",
       "    .dataframe tbody tr th:only-of-type {\n",
       "        vertical-align: middle;\n",
       "    }\n",
       "\n",
       "    .dataframe tbody tr th {\n",
       "        vertical-align: top;\n",
       "    }\n",
       "\n",
       "    .dataframe thead th {\n",
       "        text-align: right;\n",
       "    }\n",
       "</style>\n",
       "<table border=\"1\" class=\"dataframe\">\n",
       "  <thead>\n",
       "    <tr style=\"text-align: right;\">\n",
       "      <th></th>\n",
       "      <th>Total Fwd Packets</th>\n",
       "      <th>Total Backward Packets</th>\n",
       "      <th>Total Length of Bwd Packets</th>\n",
       "      <th>Fwd Packet Length Min</th>\n",
       "      <th>Fwd Packet Length Std</th>\n",
       "      <th>Bwd Packet Length Max</th>\n",
       "      <th>Bwd Packet Length Min</th>\n",
       "      <th>Bwd Packet Length Mean</th>\n",
       "      <th>Flow Bytes/s</th>\n",
       "      <th>Flow Packets/s</th>\n",
       "      <th>...</th>\n",
       "      <th>Subflow Bwd Packets</th>\n",
       "      <th>Subflow Bwd Bytes</th>\n",
       "      <th>Init_Win_bytes_forward</th>\n",
       "      <th>Init_Win_bytes_backward</th>\n",
       "      <th>min_seg_size_forward</th>\n",
       "      <th>Active Mean</th>\n",
       "      <th>Active Std</th>\n",
       "      <th>Idle Std</th>\n",
       "      <th>Idle Min</th>\n",
       "      <th>Label</th>\n",
       "    </tr>\n",
       "  </thead>\n",
       "  <tbody>\n",
       "    <tr>\n",
       "      <th>0</th>\n",
       "      <td>2.0</td>\n",
       "      <td>0.0</td>\n",
       "      <td>0.0</td>\n",
       "      <td>1368.0</td>\n",
       "      <td>0.0</td>\n",
       "      <td>0.0</td>\n",
       "      <td>0.0</td>\n",
       "      <td>0.0</td>\n",
       "      <td>2.736000e+09</td>\n",
       "      <td>2000000.00</td>\n",
       "      <td>...</td>\n",
       "      <td>0.0</td>\n",
       "      <td>0.0</td>\n",
       "      <td>1.0</td>\n",
       "      <td>1.0</td>\n",
       "      <td>1.0</td>\n",
       "      <td>0.0</td>\n",
       "      <td>0.0</td>\n",
       "      <td>0.0</td>\n",
       "      <td>0.0</td>\n",
       "      <td>DrDoS_DNS</td>\n",
       "    </tr>\n",
       "    <tr>\n",
       "      <th>1</th>\n",
       "      <td>2.0</td>\n",
       "      <td>0.0</td>\n",
       "      <td>0.0</td>\n",
       "      <td>1325.0</td>\n",
       "      <td>0.0</td>\n",
       "      <td>0.0</td>\n",
       "      <td>0.0</td>\n",
       "      <td>0.0</td>\n",
       "      <td>2.650000e+09</td>\n",
       "      <td>2000000.00</td>\n",
       "      <td>...</td>\n",
       "      <td>0.0</td>\n",
       "      <td>0.0</td>\n",
       "      <td>1.0</td>\n",
       "      <td>1.0</td>\n",
       "      <td>0.0</td>\n",
       "      <td>0.0</td>\n",
       "      <td>0.0</td>\n",
       "      <td>0.0</td>\n",
       "      <td>0.0</td>\n",
       "      <td>DrDoS_DNS</td>\n",
       "    </tr>\n",
       "    <tr>\n",
       "      <th>2</th>\n",
       "      <td>2.0</td>\n",
       "      <td>0.0</td>\n",
       "      <td>0.0</td>\n",
       "      <td>1472.0</td>\n",
       "      <td>0.0</td>\n",
       "      <td>0.0</td>\n",
       "      <td>0.0</td>\n",
       "      <td>0.0</td>\n",
       "      <td>1.472000e+09</td>\n",
       "      <td>1000000.00</td>\n",
       "      <td>...</td>\n",
       "      <td>0.0</td>\n",
       "      <td>0.0</td>\n",
       "      <td>1.0</td>\n",
       "      <td>1.0</td>\n",
       "      <td>14.0</td>\n",
       "      <td>0.0</td>\n",
       "      <td>0.0</td>\n",
       "      <td>0.0</td>\n",
       "      <td>0.0</td>\n",
       "      <td>DrDoS_DNS</td>\n",
       "    </tr>\n",
       "    <tr>\n",
       "      <th>3</th>\n",
       "      <td>2.0</td>\n",
       "      <td>0.0</td>\n",
       "      <td>0.0</td>\n",
       "      <td>1472.0</td>\n",
       "      <td>0.0</td>\n",
       "      <td>0.0</td>\n",
       "      <td>0.0</td>\n",
       "      <td>0.0</td>\n",
       "      <td>6.400000e+07</td>\n",
       "      <td>43478.26</td>\n",
       "      <td>...</td>\n",
       "      <td>0.0</td>\n",
       "      <td>0.0</td>\n",
       "      <td>1.0</td>\n",
       "      <td>1.0</td>\n",
       "      <td>1.0</td>\n",
       "      <td>0.0</td>\n",
       "      <td>0.0</td>\n",
       "      <td>0.0</td>\n",
       "      <td>0.0</td>\n",
       "      <td>DrDoS_DNS</td>\n",
       "    </tr>\n",
       "    <tr>\n",
       "      <th>4</th>\n",
       "      <td>2.0</td>\n",
       "      <td>0.0</td>\n",
       "      <td>0.0</td>\n",
       "      <td>1472.0</td>\n",
       "      <td>0.0</td>\n",
       "      <td>0.0</td>\n",
       "      <td>0.0</td>\n",
       "      <td>0.0</td>\n",
       "      <td>2.944000e+09</td>\n",
       "      <td>2000000.00</td>\n",
       "      <td>...</td>\n",
       "      <td>0.0</td>\n",
       "      <td>0.0</td>\n",
       "      <td>1.0</td>\n",
       "      <td>1.0</td>\n",
       "      <td>1.0</td>\n",
       "      <td>0.0</td>\n",
       "      <td>0.0</td>\n",
       "      <td>0.0</td>\n",
       "      <td>0.0</td>\n",
       "      <td>DrDoS_DNS</td>\n",
       "    </tr>\n",
       "  </tbody>\n",
       "</table>\n",
       "<p>5 rows × 39 columns</p>\n",
       "</div>"
      ],
      "text/plain": [
       "    Total Fwd Packets   Total Backward Packets   Total Length of Bwd Packets  \\\n",
       "0                 2.0                      0.0                           0.0   \n",
       "1                 2.0                      0.0                           0.0   \n",
       "2                 2.0                      0.0                           0.0   \n",
       "3                 2.0                      0.0                           0.0   \n",
       "4                 2.0                      0.0                           0.0   \n",
       "\n",
       "    Fwd Packet Length Min   Fwd Packet Length Std  Bwd Packet Length Max  \\\n",
       "0                  1368.0                     0.0                    0.0   \n",
       "1                  1325.0                     0.0                    0.0   \n",
       "2                  1472.0                     0.0                    0.0   \n",
       "3                  1472.0                     0.0                    0.0   \n",
       "4                  1472.0                     0.0                    0.0   \n",
       "\n",
       "    Bwd Packet Length Min   Bwd Packet Length Mean  Flow Bytes/s  \\\n",
       "0                     0.0                      0.0  2.736000e+09   \n",
       "1                     0.0                      0.0  2.650000e+09   \n",
       "2                     0.0                      0.0  1.472000e+09   \n",
       "3                     0.0                      0.0  6.400000e+07   \n",
       "4                     0.0                      0.0  2.944000e+09   \n",
       "\n",
       "    Flow Packets/s  ...   Subflow Bwd Packets   Subflow Bwd Bytes  \\\n",
       "0       2000000.00  ...                   0.0                 0.0   \n",
       "1       2000000.00  ...                   0.0                 0.0   \n",
       "2       1000000.00  ...                   0.0                 0.0   \n",
       "3         43478.26  ...                   0.0                 0.0   \n",
       "4       2000000.00  ...                   0.0                 0.0   \n",
       "\n",
       "   Init_Win_bytes_forward   Init_Win_bytes_backward   min_seg_size_forward  \\\n",
       "0                     1.0                       1.0                    1.0   \n",
       "1                     1.0                       1.0                    0.0   \n",
       "2                     1.0                       1.0                   14.0   \n",
       "3                     1.0                       1.0                    1.0   \n",
       "4                     1.0                       1.0                    1.0   \n",
       "\n",
       "   Active Mean   Active Std   Idle Std   Idle Min      Label  \n",
       "0          0.0          0.0        0.0        0.0  DrDoS_DNS  \n",
       "1          0.0          0.0        0.0        0.0  DrDoS_DNS  \n",
       "2          0.0          0.0        0.0        0.0  DrDoS_DNS  \n",
       "3          0.0          0.0        0.0        0.0  DrDoS_DNS  \n",
       "4          0.0          0.0        0.0        0.0  DrDoS_DNS  \n",
       "\n",
       "[5 rows x 39 columns]"
      ]
     },
     "execution_count": 4,
     "metadata": {},
     "output_type": "execute_result"
    }
   ],
   "source": [
    "df.head()"
   ]
  },
  {
   "cell_type": "code",
   "execution_count": 5,
   "metadata": {},
   "outputs": [],
   "source": [
    "X = df.drop(columns=[' Label'])\n",
    "y = df[' Label']"
   ]
  },
  {
   "cell_type": "code",
   "execution_count": 6,
   "metadata": {},
   "outputs": [],
   "source": [
    "input_features = len(X.columns)"
   ]
  },
  {
   "cell_type": "code",
   "execution_count": 7,
   "metadata": {},
   "outputs": [],
   "source": [
    "X_train, X_test, y_train, y_test = train_test_split(X, y, train_size=0.9, random_state=42, stratify=y)"
   ]
  },
  {
   "cell_type": "markdown",
   "metadata": {},
   "source": [
    "___\n",
    "# Select the top 20 features"
   ]
  },
  {
   "cell_type": "code",
   "execution_count": 8,
   "metadata": {},
   "outputs": [],
   "source": [
    "start = time.time()\n",
    "# Feature Selection\n",
    "fs_start = time.time()\n",
    "selector = SelectKBest(f_classif, k=20).fit(X_train, y_train)\n",
    "X_train = selector.transform(X_train)\n",
    "X_test = selector.transform(X_test)\n",
    "fs_end = time.time()"
   ]
  },
  {
   "cell_type": "markdown",
   "metadata": {},
   "source": [
    "___\n",
    "# Training a model"
   ]
  },
  {
   "cell_type": "code",
   "execution_count": 9,
   "metadata": {},
   "outputs": [
    {
     "name": "stderr",
     "output_type": "stream",
     "text": [
      "c:\\Users\\pedro\\miniconda3\\lib\\site-packages\\xgboost\\sklearn.py:892: UserWarning: The use of label encoder in XGBClassifier is deprecated and will be removed in a future release. To remove this warning, do the following: 1) Pass option use_label_encoder=False when constructing XGBClassifier object; and 2) Encode your labels (y) as integers starting with 0, i.e. 0, 1, 2, ..., [num_class - 1].\n",
      "  warnings.warn(label_encoder_deprecation_msg, UserWarning)\n"
     ]
    }
   ],
   "source": [
    "# Training the model\n",
    "train_start = time.time()\n",
    "clf_xgb = xgb.XGBClassifier(eval_metric=\"mlogloss\", seed=42)\n",
    "# clf_xgb.fit(X_train, \n",
    "#             y_train,\n",
    "#             verbose=False,\n",
    "#             # the next three arguments set up early stopping.\n",
    "#             early_stopping_rounds=5,\n",
    "#             eval_metric='logloss',\n",
    "#             eval_set=[(X_test, y_test)])\n",
    "clf_xgb.fit(X_train, y_train)\n",
    "train_end = time.time()\n",
    "end = time.time()"
   ]
  },
  {
   "cell_type": "code",
   "execution_count": 10,
   "metadata": {},
   "outputs": [],
   "source": [
    "fs_time = (fs_end - fs_start)\n",
    "train_time = (train_end - train_start)\n",
    "fit_time = (end - start)"
   ]
  },
  {
   "cell_type": "code",
   "execution_count": 11,
   "metadata": {},
   "outputs": [],
   "source": [
    "output_features = 20"
   ]
  },
  {
   "cell_type": "code",
   "execution_count": 12,
   "metadata": {},
   "outputs": [
    {
     "data": {
      "image/png": "[encoded data removed]",
      "text/plain": [
       "<Figure size 432x288 with 2 Axes>"
      ]
     },
     "metadata": {
      "needs_background": "light"
     },
     "output_type": "display_data"
    }
   ],
   "source": [
    "plot_confusion_matrix(clf_xgb, \n",
    "                      X_test, \n",
    "                      y_test,\n",
    "                      values_format='d',\n",
    "                      xticks_rotation='vertical')\n",
    "plt.savefig(root + 'pictures/multiclass_categorical/label_dependent/confusion_matrix_anova.pdf', bbox_inches='tight')"
   ]
  },
  {
   "cell_type": "code",
   "execution_count": 13,
   "metadata": {},
   "outputs": [],
   "source": [
    "y_pred = clf_xgb.predict(X_test)\n",
    "\n",
    "accuracy = accuracy_score(y_test, y_pred)\n",
    "precision = precision_score(y_test, y_pred, average=\"macro\")\n",
    "recall = recall_score(y_test, y_pred, average='macro')\n",
    "f1score = f1_score(y_test, y_pred, average='macro')"
   ]
  },
  {
   "cell_type": "code",
   "execution_count": 14,
   "metadata": {},
   "outputs": [],
   "source": [
    "pfm = pd.DataFrame([\"ANOVA\", accuracy, precision, recall, f1score,\n",
    "                    fit_time, fs_time, train_time, input_features, output_features])\n",
    "pfm = pfm.T\n",
    "pfm.columns = [\"Method\", \"Accuracy\", \"Precision\", \"Recall\", \"F1_Score\", \n",
    "                \"Fit_Time\", \"FS_Time\", \"Train_Time\", \"Input_Features\", \"Output_Features\"]\n",
    "\n",
    "filename = root + \"pickles/multiclass_categorical/hold_out/label_dependent/anova.pkl\"\n",
    "outfile = open(filename, 'wb')\n",
    "pickle.dump(pfm, outfile)\n",
    "outfile.close()"
   ]
  },
  {
   "cell_type": "code",
   "execution_count": 15,
   "metadata": {},
   "outputs": [
    {
     "name": "stdout",
     "output_type": "stream",
     "text": [
      "               precision    recall  f1-score   support\n",
      "\n",
      "       BENIGN   1.000000  1.000000  1.000000        44\n",
      "    DrDoS_DNS   0.666667  0.409091  0.507042        44\n",
      "   DrDoS_LDAP   0.500000  0.636364  0.560000        44\n",
      "  DrDoS_MSSQL   0.886364  0.886364  0.886364        44\n",
      "    DrDoS_NTP   0.956522  1.000000  0.977778        44\n",
      "DrDoS_NetBIOS   0.895833  0.977273  0.934783        44\n",
      "   DrDoS_SNMP   0.687500  0.750000  0.717391        44\n",
      "   DrDoS_SSDP   0.377778  0.386364  0.382022        44\n",
      "    DrDoS_UDP   0.476190  0.454545  0.465116        44\n",
      "          Syn   0.590909  0.886364  0.709091        44\n",
      "         TFTP   1.000000  1.000000  1.000000        44\n",
      "      UDP-lag   0.666667  0.272727  0.387097        44\n",
      "\n",
      "     accuracy                       0.721591       528\n",
      "    macro avg   0.725369  0.721591  0.710557       528\n",
      " weighted avg   0.725369  0.721591  0.710557       528\n",
      "\n"
     ]
    }
   ],
   "source": [
    "print(classification_report(y_test, y_pred, digits=6))"
   ]
  },
  {
   "cell_type": "code",
   "execution_count": null,
   "metadata": {},
   "outputs": [],
   "source": []
  }
 ],
 "metadata": {
  "kernelspec": {
   "display_name": "Python 3.8.5 ('base')",
   "language": "python",
   "name": "python3"
  },
  "language_info": {
   "codemirror_mode": {
    "name": "ipython",
    "version": 3
   },
   "file_extension": ".py",
   "mimetype": "text/x-python",
   "name": "python",
   "nbconvert_exporter": "python",
   "pygments_lexer": "ipython3",
   "version": "3.8.5"
  },
  "orig_nbformat": 2,
  "vscode": {
   "interpreter": {
    "hash": "7ea4d93c12037c275ca7c637f7903e3ca4403fc10b1710bb9f47b6691d9182f8"
   }
  }
 },
 "nbformat": 4,
 "nbformat_minor": 2
}
