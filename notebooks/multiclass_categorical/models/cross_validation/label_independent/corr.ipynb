{
 "cells": [
  {
   "cell_type": "code",
   "execution_count": 17,
   "metadata": {},
   "outputs": [],
   "source": [
    "import pandas as pd\n",
    "import numpy as np\n",
    "from sklearn.model_selection import StratifiedKFold\n",
    "from sklearn.metrics import accuracy_score, precision_score, recall_score, f1_score\n",
    "import xgboost as xgb\n",
    "import time\n",
    "import pickle"
   ]
  },
  {
   "cell_type": "code",
   "execution_count": 18,
   "metadata": {},
   "outputs": [],
   "source": [
    "root = \"../../../../../\""
   ]
  },
  {
   "cell_type": "code",
   "execution_count": 19,
   "metadata": {},
   "outputs": [],
   "source": [
    "df = pd.read_csv(root + \"datasets/multiclass/processed/CICDDoS_basic.csv\", index_col=[0])"
   ]
  },
  {
   "cell_type": "code",
   "execution_count": 20,
   "metadata": {},
   "outputs": [
    {
     "data": {
      "text/html": [
       "<div>\n",
       "<style scoped>\n",
       "    .dataframe tbody tr th:only-of-type {\n",
       "        vertical-align: middle;\n",
       "    }\n",
       "\n",
       "    .dataframe tbody tr th {\n",
       "        vertical-align: top;\n",
       "    }\n",
       "\n",
       "    .dataframe thead th {\n",
       "        text-align: right;\n",
       "    }\n",
       "</style>\n",
       "<table border=\"1\" class=\"dataframe\">\n",
       "  <thead>\n",
       "    <tr style=\"text-align: right;\">\n",
       "      <th></th>\n",
       "      <th>Flow Duration</th>\n",
       "      <th>Total Fwd Packets</th>\n",
       "      <th>Total Backward Packets</th>\n",
       "      <th>Total Length of Fwd Packets</th>\n",
       "      <th>Total Length of Bwd Packets</th>\n",
       "      <th>Fwd Packet Length Max</th>\n",
       "      <th>Fwd Packet Length Min</th>\n",
       "      <th>Fwd Packet Length Mean</th>\n",
       "      <th>Fwd Packet Length Std</th>\n",
       "      <th>Bwd Packet Length Max</th>\n",
       "      <th>...</th>\n",
       "      <th>min_seg_size_forward</th>\n",
       "      <th>Active Mean</th>\n",
       "      <th>Active Std</th>\n",
       "      <th>Active Max</th>\n",
       "      <th>Active Min</th>\n",
       "      <th>Idle Mean</th>\n",
       "      <th>Idle Std</th>\n",
       "      <th>Idle Max</th>\n",
       "      <th>Idle Min</th>\n",
       "      <th>Label</th>\n",
       "    </tr>\n",
       "  </thead>\n",
       "  <tbody>\n",
       "    <tr>\n",
       "      <th>0</th>\n",
       "      <td>1.0</td>\n",
       "      <td>2.0</td>\n",
       "      <td>0.0</td>\n",
       "      <td>2736.0</td>\n",
       "      <td>0.0</td>\n",
       "      <td>1368.0</td>\n",
       "      <td>1368.0</td>\n",
       "      <td>1368.0</td>\n",
       "      <td>0.0</td>\n",
       "      <td>0.0</td>\n",
       "      <td>...</td>\n",
       "      <td>1.0</td>\n",
       "      <td>0.0</td>\n",
       "      <td>0.0</td>\n",
       "      <td>0.0</td>\n",
       "      <td>0.0</td>\n",
       "      <td>0.0</td>\n",
       "      <td>0.0</td>\n",
       "      <td>0.0</td>\n",
       "      <td>0.0</td>\n",
       "      <td>DrDoS_DNS</td>\n",
       "    </tr>\n",
       "    <tr>\n",
       "      <th>1</th>\n",
       "      <td>1.0</td>\n",
       "      <td>2.0</td>\n",
       "      <td>0.0</td>\n",
       "      <td>2650.0</td>\n",
       "      <td>0.0</td>\n",
       "      <td>1325.0</td>\n",
       "      <td>1325.0</td>\n",
       "      <td>1325.0</td>\n",
       "      <td>0.0</td>\n",
       "      <td>0.0</td>\n",
       "      <td>...</td>\n",
       "      <td>0.0</td>\n",
       "      <td>0.0</td>\n",
       "      <td>0.0</td>\n",
       "      <td>0.0</td>\n",
       "      <td>0.0</td>\n",
       "      <td>0.0</td>\n",
       "      <td>0.0</td>\n",
       "      <td>0.0</td>\n",
       "      <td>0.0</td>\n",
       "      <td>DrDoS_DNS</td>\n",
       "    </tr>\n",
       "    <tr>\n",
       "      <th>2</th>\n",
       "      <td>2.0</td>\n",
       "      <td>2.0</td>\n",
       "      <td>0.0</td>\n",
       "      <td>2944.0</td>\n",
       "      <td>0.0</td>\n",
       "      <td>1472.0</td>\n",
       "      <td>1472.0</td>\n",
       "      <td>1472.0</td>\n",
       "      <td>0.0</td>\n",
       "      <td>0.0</td>\n",
       "      <td>...</td>\n",
       "      <td>14.0</td>\n",
       "      <td>0.0</td>\n",
       "      <td>0.0</td>\n",
       "      <td>0.0</td>\n",
       "      <td>0.0</td>\n",
       "      <td>0.0</td>\n",
       "      <td>0.0</td>\n",
       "      <td>0.0</td>\n",
       "      <td>0.0</td>\n",
       "      <td>DrDoS_DNS</td>\n",
       "    </tr>\n",
       "    <tr>\n",
       "      <th>3</th>\n",
       "      <td>46.0</td>\n",
       "      <td>2.0</td>\n",
       "      <td>0.0</td>\n",
       "      <td>2944.0</td>\n",
       "      <td>0.0</td>\n",
       "      <td>1472.0</td>\n",
       "      <td>1472.0</td>\n",
       "      <td>1472.0</td>\n",
       "      <td>0.0</td>\n",
       "      <td>0.0</td>\n",
       "      <td>...</td>\n",
       "      <td>1.0</td>\n",
       "      <td>0.0</td>\n",
       "      <td>0.0</td>\n",
       "      <td>0.0</td>\n",
       "      <td>0.0</td>\n",
       "      <td>0.0</td>\n",
       "      <td>0.0</td>\n",
       "      <td>0.0</td>\n",
       "      <td>0.0</td>\n",
       "      <td>DrDoS_DNS</td>\n",
       "    </tr>\n",
       "    <tr>\n",
       "      <th>4</th>\n",
       "      <td>1.0</td>\n",
       "      <td>2.0</td>\n",
       "      <td>0.0</td>\n",
       "      <td>2944.0</td>\n",
       "      <td>0.0</td>\n",
       "      <td>1472.0</td>\n",
       "      <td>1472.0</td>\n",
       "      <td>1472.0</td>\n",
       "      <td>0.0</td>\n",
       "      <td>0.0</td>\n",
       "      <td>...</td>\n",
       "      <td>1.0</td>\n",
       "      <td>0.0</td>\n",
       "      <td>0.0</td>\n",
       "      <td>0.0</td>\n",
       "      <td>0.0</td>\n",
       "      <td>0.0</td>\n",
       "      <td>0.0</td>\n",
       "      <td>0.0</td>\n",
       "      <td>0.0</td>\n",
       "      <td>DrDoS_DNS</td>\n",
       "    </tr>\n",
       "  </tbody>\n",
       "</table>\n",
       "<p>5 rows × 62 columns</p>\n",
       "</div>"
      ],
      "text/plain": [
       "    Flow Duration   Total Fwd Packets   Total Backward Packets  \\\n",
       "0             1.0                 2.0                      0.0   \n",
       "1             1.0                 2.0                      0.0   \n",
       "2             2.0                 2.0                      0.0   \n",
       "3            46.0                 2.0                      0.0   \n",
       "4             1.0                 2.0                      0.0   \n",
       "\n",
       "   Total Length of Fwd Packets   Total Length of Bwd Packets  \\\n",
       "0                       2736.0                           0.0   \n",
       "1                       2650.0                           0.0   \n",
       "2                       2944.0                           0.0   \n",
       "3                       2944.0                           0.0   \n",
       "4                       2944.0                           0.0   \n",
       "\n",
       "    Fwd Packet Length Max   Fwd Packet Length Min   Fwd Packet Length Mean  \\\n",
       "0                  1368.0                  1368.0                   1368.0   \n",
       "1                  1325.0                  1325.0                   1325.0   \n",
       "2                  1472.0                  1472.0                   1472.0   \n",
       "3                  1472.0                  1472.0                   1472.0   \n",
       "4                  1472.0                  1472.0                   1472.0   \n",
       "\n",
       "    Fwd Packet Length Std  Bwd Packet Length Max  ...   min_seg_size_forward  \\\n",
       "0                     0.0                    0.0  ...                    1.0   \n",
       "1                     0.0                    0.0  ...                    0.0   \n",
       "2                     0.0                    0.0  ...                   14.0   \n",
       "3                     0.0                    0.0  ...                    1.0   \n",
       "4                     0.0                    0.0  ...                    1.0   \n",
       "\n",
       "   Active Mean   Active Std   Active Max   Active Min  Idle Mean   Idle Std  \\\n",
       "0          0.0          0.0          0.0          0.0        0.0        0.0   \n",
       "1          0.0          0.0          0.0          0.0        0.0        0.0   \n",
       "2          0.0          0.0          0.0          0.0        0.0        0.0   \n",
       "3          0.0          0.0          0.0          0.0        0.0        0.0   \n",
       "4          0.0          0.0          0.0          0.0        0.0        0.0   \n",
       "\n",
       "    Idle Max   Idle Min      Label  \n",
       "0        0.0        0.0  DrDoS_DNS  \n",
       "1        0.0        0.0  DrDoS_DNS  \n",
       "2        0.0        0.0  DrDoS_DNS  \n",
       "3        0.0        0.0  DrDoS_DNS  \n",
       "4        0.0        0.0  DrDoS_DNS  \n",
       "\n",
       "[5 rows x 62 columns]"
      ]
     },
     "execution_count": 20,
     "metadata": {},
     "output_type": "execute_result"
    }
   ],
   "source": [
    "df.head()"
   ]
  },
  {
   "cell_type": "code",
   "execution_count": 21,
   "metadata": {},
   "outputs": [],
   "source": [
    "X = df.drop(columns=[' Label'])\n",
    "y = df[' Label']"
   ]
  },
  {
   "cell_type": "code",
   "execution_count": 22,
   "metadata": {
    "tags": []
   },
   "outputs": [
    {
     "name": "stderr",
     "output_type": "stream",
     "text": [
      "c:\\Users\\pedro\\miniconda3\\lib\\site-packages\\pandas\\core\\frame.py:4305: SettingWithCopyWarning: \n",
      "A value is trying to be set on a copy of a slice from a DataFrame\n",
      "\n",
      "See the caveats in the documentation: https://pandas.pydata.org/pandas-docs/stable/user_guide/indexing.html#returning-a-view-versus-a-copy\n",
      "  return super().drop(\n",
      "c:\\Users\\pedro\\miniconda3\\lib\\site-packages\\xgboost\\sklearn.py:892: UserWarning: The use of label encoder in XGBClassifier is deprecated and will be removed in a future release. To remove this warning, do the following: 1) Pass option use_label_encoder=False when constructing XGBClassifier object; and 2) Encode your labels (y) as integers starting with 0, i.e. 0, 1, 2, ..., [num_class - 1].\n",
      "  warnings.warn(label_encoder_deprecation_msg, UserWarning)\n"
     ]
    },
    {
     "name": "stdout",
     "output_type": "stream",
     "text": [
      "[02:54:04] WARNING: C:/Users/Administrator/workspace/xgboost-win64_release_1.3.0/src/learner.cc:1061: Starting in XGBoost 1.3.0, the default evaluation metric used with the objective 'multi:softprob' was changed from 'merror' to 'mlogloss'. Explicitly set eval_metric if you'd like to restore the old behavior.\n"
     ]
    },
    {
     "name": "stderr",
     "output_type": "stream",
     "text": [
      "c:\\Users\\pedro\\miniconda3\\lib\\site-packages\\pandas\\core\\frame.py:4305: SettingWithCopyWarning: \n",
      "A value is trying to be set on a copy of a slice from a DataFrame\n",
      "\n",
      "See the caveats in the documentation: https://pandas.pydata.org/pandas-docs/stable/user_guide/indexing.html#returning-a-view-versus-a-copy\n",
      "  return super().drop(\n",
      "c:\\Users\\pedro\\miniconda3\\lib\\site-packages\\xgboost\\sklearn.py:892: UserWarning: The use of label encoder in XGBClassifier is deprecated and will be removed in a future release. To remove this warning, do the following: 1) Pass option use_label_encoder=False when constructing XGBClassifier object; and 2) Encode your labels (y) as integers starting with 0, i.e. 0, 1, 2, ..., [num_class - 1].\n",
      "  warnings.warn(label_encoder_deprecation_msg, UserWarning)\n"
     ]
    },
    {
     "name": "stdout",
     "output_type": "stream",
     "text": [
      "[02:54:07] WARNING: C:/Users/Administrator/workspace/xgboost-win64_release_1.3.0/src/learner.cc:1061: Starting in XGBoost 1.3.0, the default evaluation metric used with the objective 'multi:softprob' was changed from 'merror' to 'mlogloss'. Explicitly set eval_metric if you'd like to restore the old behavior.\n"
     ]
    },
    {
     "name": "stderr",
     "output_type": "stream",
     "text": [
      "c:\\Users\\pedro\\miniconda3\\lib\\site-packages\\pandas\\core\\frame.py:4305: SettingWithCopyWarning: \n",
      "A value is trying to be set on a copy of a slice from a DataFrame\n",
      "\n",
      "See the caveats in the documentation: https://pandas.pydata.org/pandas-docs/stable/user_guide/indexing.html#returning-a-view-versus-a-copy\n",
      "  return super().drop(\n",
      "c:\\Users\\pedro\\miniconda3\\lib\\site-packages\\xgboost\\sklearn.py:892: UserWarning: The use of label encoder in XGBClassifier is deprecated and will be removed in a future release. To remove this warning, do the following: 1) Pass option use_label_encoder=False when constructing XGBClassifier object; and 2) Encode your labels (y) as integers starting with 0, i.e. 0, 1, 2, ..., [num_class - 1].\n",
      "  warnings.warn(label_encoder_deprecation_msg, UserWarning)\n"
     ]
    },
    {
     "name": "stdout",
     "output_type": "stream",
     "text": [
      "[02:54:11] WARNING: C:/Users/Administrator/workspace/xgboost-win64_release_1.3.0/src/learner.cc:1061: Starting in XGBoost 1.3.0, the default evaluation metric used with the objective 'multi:softprob' was changed from 'merror' to 'mlogloss'. Explicitly set eval_metric if you'd like to restore the old behavior.\n"
     ]
    },
    {
     "name": "stderr",
     "output_type": "stream",
     "text": [
      "c:\\Users\\pedro\\miniconda3\\lib\\site-packages\\pandas\\core\\frame.py:4305: SettingWithCopyWarning: \n",
      "A value is trying to be set on a copy of a slice from a DataFrame\n",
      "\n",
      "See the caveats in the documentation: https://pandas.pydata.org/pandas-docs/stable/user_guide/indexing.html#returning-a-view-versus-a-copy\n",
      "  return super().drop(\n",
      "c:\\Users\\pedro\\miniconda3\\lib\\site-packages\\xgboost\\sklearn.py:892: UserWarning: The use of label encoder in XGBClassifier is deprecated and will be removed in a future release. To remove this warning, do the following: 1) Pass option use_label_encoder=False when constructing XGBClassifier object; and 2) Encode your labels (y) as integers starting with 0, i.e. 0, 1, 2, ..., [num_class - 1].\n",
      "  warnings.warn(label_encoder_deprecation_msg, UserWarning)\n"
     ]
    },
    {
     "name": "stdout",
     "output_type": "stream",
     "text": [
      "[02:54:14] WARNING: C:/Users/Administrator/workspace/xgboost-win64_release_1.3.0/src/learner.cc:1061: Starting in XGBoost 1.3.0, the default evaluation metric used with the objective 'multi:softprob' was changed from 'merror' to 'mlogloss'. Explicitly set eval_metric if you'd like to restore the old behavior.\n"
     ]
    },
    {
     "name": "stderr",
     "output_type": "stream",
     "text": [
      "c:\\Users\\pedro\\miniconda3\\lib\\site-packages\\pandas\\core\\frame.py:4305: SettingWithCopyWarning: \n",
      "A value is trying to be set on a copy of a slice from a DataFrame\n",
      "\n",
      "See the caveats in the documentation: https://pandas.pydata.org/pandas-docs/stable/user_guide/indexing.html#returning-a-view-versus-a-copy\n",
      "  return super().drop(\n",
      "c:\\Users\\pedro\\miniconda3\\lib\\site-packages\\xgboost\\sklearn.py:892: UserWarning: The use of label encoder in XGBClassifier is deprecated and will be removed in a future release. To remove this warning, do the following: 1) Pass option use_label_encoder=False when constructing XGBClassifier object; and 2) Encode your labels (y) as integers starting with 0, i.e. 0, 1, 2, ..., [num_class - 1].\n",
      "  warnings.warn(label_encoder_deprecation_msg, UserWarning)\n"
     ]
    },
    {
     "name": "stdout",
     "output_type": "stream",
     "text": [
      "[02:54:18] WARNING: C:/Users/Administrator/workspace/xgboost-win64_release_1.3.0/src/learner.cc:1061: Starting in XGBoost 1.3.0, the default evaluation metric used with the objective 'multi:softprob' was changed from 'merror' to 'mlogloss'. Explicitly set eval_metric if you'd like to restore the old behavior.\n"
     ]
    },
    {
     "name": "stderr",
     "output_type": "stream",
     "text": [
      "c:\\Users\\pedro\\miniconda3\\lib\\site-packages\\pandas\\core\\frame.py:4305: SettingWithCopyWarning: \n",
      "A value is trying to be set on a copy of a slice from a DataFrame\n",
      "\n",
      "See the caveats in the documentation: https://pandas.pydata.org/pandas-docs/stable/user_guide/indexing.html#returning-a-view-versus-a-copy\n",
      "  return super().drop(\n",
      "c:\\Users\\pedro\\miniconda3\\lib\\site-packages\\xgboost\\sklearn.py:892: UserWarning: The use of label encoder in XGBClassifier is deprecated and will be removed in a future release. To remove this warning, do the following: 1) Pass option use_label_encoder=False when constructing XGBClassifier object; and 2) Encode your labels (y) as integers starting with 0, i.e. 0, 1, 2, ..., [num_class - 1].\n",
      "  warnings.warn(label_encoder_deprecation_msg, UserWarning)\n"
     ]
    },
    {
     "name": "stdout",
     "output_type": "stream",
     "text": [
      "[02:54:22] WARNING: C:/Users/Administrator/workspace/xgboost-win64_release_1.3.0/src/learner.cc:1061: Starting in XGBoost 1.3.0, the default evaluation metric used with the objective 'multi:softprob' was changed from 'merror' to 'mlogloss'. Explicitly set eval_metric if you'd like to restore the old behavior.\n"
     ]
    },
    {
     "name": "stderr",
     "output_type": "stream",
     "text": [
      "c:\\Users\\pedro\\miniconda3\\lib\\site-packages\\pandas\\core\\frame.py:4305: SettingWithCopyWarning: \n",
      "A value is trying to be set on a copy of a slice from a DataFrame\n",
      "\n",
      "See the caveats in the documentation: https://pandas.pydata.org/pandas-docs/stable/user_guide/indexing.html#returning-a-view-versus-a-copy\n",
      "  return super().drop(\n",
      "c:\\Users\\pedro\\miniconda3\\lib\\site-packages\\xgboost\\sklearn.py:892: UserWarning: The use of label encoder in XGBClassifier is deprecated and will be removed in a future release. To remove this warning, do the following: 1) Pass option use_label_encoder=False when constructing XGBClassifier object; and 2) Encode your labels (y) as integers starting with 0, i.e. 0, 1, 2, ..., [num_class - 1].\n",
      "  warnings.warn(label_encoder_deprecation_msg, UserWarning)\n"
     ]
    },
    {
     "name": "stdout",
     "output_type": "stream",
     "text": [
      "[02:54:25] WARNING: C:/Users/Administrator/workspace/xgboost-win64_release_1.3.0/src/learner.cc:1061: Starting in XGBoost 1.3.0, the default evaluation metric used with the objective 'multi:softprob' was changed from 'merror' to 'mlogloss'. Explicitly set eval_metric if you'd like to restore the old behavior.\n"
     ]
    },
    {
     "name": "stderr",
     "output_type": "stream",
     "text": [
      "c:\\Users\\pedro\\miniconda3\\lib\\site-packages\\pandas\\core\\frame.py:4305: SettingWithCopyWarning: \n",
      "A value is trying to be set on a copy of a slice from a DataFrame\n",
      "\n",
      "See the caveats in the documentation: https://pandas.pydata.org/pandas-docs/stable/user_guide/indexing.html#returning-a-view-versus-a-copy\n",
      "  return super().drop(\n",
      "c:\\Users\\pedro\\miniconda3\\lib\\site-packages\\xgboost\\sklearn.py:892: UserWarning: The use of label encoder in XGBClassifier is deprecated and will be removed in a future release. To remove this warning, do the following: 1) Pass option use_label_encoder=False when constructing XGBClassifier object; and 2) Encode your labels (y) as integers starting with 0, i.e. 0, 1, 2, ..., [num_class - 1].\n",
      "  warnings.warn(label_encoder_deprecation_msg, UserWarning)\n"
     ]
    },
    {
     "name": "stdout",
     "output_type": "stream",
     "text": [
      "[02:54:29] WARNING: C:/Users/Administrator/workspace/xgboost-win64_release_1.3.0/src/learner.cc:1061: Starting in XGBoost 1.3.0, the default evaluation metric used with the objective 'multi:softprob' was changed from 'merror' to 'mlogloss'. Explicitly set eval_metric if you'd like to restore the old behavior.\n"
     ]
    },
    {
     "name": "stderr",
     "output_type": "stream",
     "text": [
      "c:\\Users\\pedro\\miniconda3\\lib\\site-packages\\pandas\\core\\frame.py:4305: SettingWithCopyWarning: \n",
      "A value is trying to be set on a copy of a slice from a DataFrame\n",
      "\n",
      "See the caveats in the documentation: https://pandas.pydata.org/pandas-docs/stable/user_guide/indexing.html#returning-a-view-versus-a-copy\n",
      "  return super().drop(\n",
      "c:\\Users\\pedro\\miniconda3\\lib\\site-packages\\xgboost\\sklearn.py:892: UserWarning: The use of label encoder in XGBClassifier is deprecated and will be removed in a future release. To remove this warning, do the following: 1) Pass option use_label_encoder=False when constructing XGBClassifier object; and 2) Encode your labels (y) as integers starting with 0, i.e. 0, 1, 2, ..., [num_class - 1].\n",
      "  warnings.warn(label_encoder_deprecation_msg, UserWarning)\n"
     ]
    },
    {
     "name": "stdout",
     "output_type": "stream",
     "text": [
      "[02:54:32] WARNING: C:/Users/Administrator/workspace/xgboost-win64_release_1.3.0/src/learner.cc:1061: Starting in XGBoost 1.3.0, the default evaluation metric used with the objective 'multi:softprob' was changed from 'merror' to 'mlogloss'. Explicitly set eval_metric if you'd like to restore the old behavior.\n"
     ]
    },
    {
     "name": "stderr",
     "output_type": "stream",
     "text": [
      "c:\\Users\\pedro\\miniconda3\\lib\\site-packages\\pandas\\core\\frame.py:4305: SettingWithCopyWarning: \n",
      "A value is trying to be set on a copy of a slice from a DataFrame\n",
      "\n",
      "See the caveats in the documentation: https://pandas.pydata.org/pandas-docs/stable/user_guide/indexing.html#returning-a-view-versus-a-copy\n",
      "  return super().drop(\n",
      "c:\\Users\\pedro\\miniconda3\\lib\\site-packages\\xgboost\\sklearn.py:892: UserWarning: The use of label encoder in XGBClassifier is deprecated and will be removed in a future release. To remove this warning, do the following: 1) Pass option use_label_encoder=False when constructing XGBClassifier object; and 2) Encode your labels (y) as integers starting with 0, i.e. 0, 1, 2, ..., [num_class - 1].\n",
      "  warnings.warn(label_encoder_deprecation_msg, UserWarning)\n"
     ]
    },
    {
     "name": "stdout",
     "output_type": "stream",
     "text": [
      "[02:54:36] WARNING: C:/Users/Administrator/workspace/xgboost-win64_release_1.3.0/src/learner.cc:1061: Starting in XGBoost 1.3.0, the default evaluation metric used with the objective 'multi:softprob' was changed from 'merror' to 'mlogloss'. Explicitly set eval_metric if you'd like to restore the old behavior.\n"
     ]
    }
   ],
   "source": [
    "splits = 10\n",
    "fs_times = []\n",
    "train_times = []\n",
    "fit_times = []\n",
    "number_features = []\n",
    "predict_times = []\n",
    "test_sizes = []\n",
    "score_times = []\n",
    "test_accuracies = []\n",
    "test_precisions = []\n",
    "test_recalls = []\n",
    "test_f1_scores = []\n",
    "\n",
    "skf = StratifiedKFold(n_splits=splits, shuffle=True, random_state=42)\n",
    "\n",
    "for train_index, test_index in skf.split(X, y):\n",
    "    X_train,  X_test = X.iloc[train_index], X.iloc[test_index]\n",
    "    y_train,  y_test = y.iloc[train_index], y.iloc[test_index]\n",
    "\n",
    "    start = time.time()\n",
    "    # Feature Selection\n",
    "    fs_start = time.time()\n",
    "    corrmat = X_train.corr()\n",
    "    corrmat = corrmat.abs().unstack() # absolute value of corr coef\n",
    "    corrmat = corrmat.sort_values(ascending=False)\n",
    "    corrmat = corrmat[corrmat > 0.9]\n",
    "    corrmat = corrmat[corrmat < 1]\n",
    "    corrmat = pd.DataFrame(corrmat).reset_index()\n",
    "    corrmat.columns = ['feature1', 'feature2', 'corr']\n",
    "\n",
    "    grouped_feature_ls = []\n",
    "    correlated_groups = []\n",
    "\n",
    "    for feature in corrmat.feature1.unique():    \n",
    "        if feature not in grouped_feature_ls:\n",
    "            # find all features correlated to a single feature\n",
    "            correlated_block = corrmat[corrmat.feature1 == feature]\n",
    "            grouped_feature_ls = grouped_feature_ls + list(correlated_block.feature2.unique()) + [feature]\n",
    "            # append the block of features to the list\n",
    "            correlated_groups.append(correlated_block)\n",
    "\n",
    "    group_head = []\n",
    "\n",
    "    for group in correlated_groups:\n",
    "        group_head.append(group.iloc[0,0])\n",
    "\n",
    "    features_to_remove = [feature for feature in grouped_feature_ls if feature not in group_head]\n",
    "\n",
    "    X_train.drop(columns=features_to_remove, inplace=True)\n",
    "    X_test.drop(columns=features_to_remove, inplace=True)\n",
    "    fs_end = time.time()\n",
    "    # Training the model\n",
    "    train_start = time.time()\n",
    "    clf_xgb = xgb.XGBClassifier(seed=42)\n",
    "    # clf_xgb.fit(X_train, \n",
    "    #             y_train,\n",
    "    #             # verbose=True,\n",
    "    #             ## the next three arguments set up early stopping.\n",
    "    #             early_stopping_rounds=5,\n",
    "    #             eval_metric='logloss',\n",
    "    #             eval_set=[(X_test, y_test)])\n",
    "    clf_xgb.fit(X_train, y_train)\n",
    "    train_end = time.time()\n",
    "    end = time.time()\n",
    "\n",
    "    fs_times.append(fs_end - fs_start)\n",
    "    train_times.append(train_end - train_start)\n",
    "    fit_times.append(end - start)\n",
    "\n",
    "    number_features.append(len(X_train.columns))\n",
    "\n",
    "    start = time.time()\n",
    "    y_pred = clf_xgb.predict(X_test)\n",
    "    end = time.time()\n",
    "    predict_times.append(end - start)\n",
    "\n",
    "    test_sizes.append(len(y_pred))\n",
    "\n",
    "    start = time.time()\n",
    "    test_accuracies.append(accuracy_score(y_test, y_pred))\n",
    "    test_precisions.append(precision_score(y_test, y_pred, average=\"macro\"))\n",
    "    test_recalls.append(recall_score(y_test, y_pred, average='macro'))\n",
    "    test_f1_scores.append(f1_score(y_test, y_pred, average='macro'))\n",
    "    end = time.time()\n",
    "    score_times.append(end - start)\n",
    "\n",
    "fs_times = np.array(fs_times)\n",
    "train_times = np.array(train_times)\n",
    "fit_times = np.array(fit_times)\n",
    "number_features = np.array(number_features)\n",
    "predict_times = np.array(predict_times)\n",
    "test_sizes = np.array(test_sizes)\n",
    "test_accuracies = np.array(test_accuracies)\n",
    "test_precisions = np.array(test_precisions)\n",
    "test_recalls = np.array(test_recalls)\n",
    "test_f1_scores = np.array(test_f1_scores)\n",
    "score_times = np.array(score_times)"
   ]
  },
  {
   "cell_type": "code",
   "execution_count": 23,
   "metadata": {},
   "outputs": [],
   "source": [
    "pfm = pd.DataFrame([test_accuracies, test_precisions, test_recalls, test_f1_scores,\n",
    "                    fit_times, fs_times, train_times, predict_times, score_times, \n",
    "                    number_features, test_sizes])\n",
    "pfm = pfm.T\n",
    "pfm.columns = [\"Accuracy\", \"Precision\", \"Recall\", \"F1_Score\", \n",
    "                \"Fit_Time\", \"FS_Time\", \"Train_Time\",\"Predict_Time\", \"Score_Time\", \n",
    "                \"Number_Features\", \"Test_Size\"]"
   ]
  },
  {
   "cell_type": "code",
   "execution_count": 24,
   "metadata": {},
   "outputs": [],
   "source": [
    "filename = root + \"pickles/multiclass_categorical/cross_validation/label_independent/corr.pkl\"\n",
    "outfile = open(filename, 'wb')\n",
    "pickle.dump(pfm, outfile)\n",
    "outfile.close()"
   ]
  },
  {
   "cell_type": "code",
   "execution_count": 25,
   "metadata": {},
   "outputs": [
    {
     "data": {
      "text/html": [
       "<div>\n",
       "<style scoped>\n",
       "    .dataframe tbody tr th:only-of-type {\n",
       "        vertical-align: middle;\n",
       "    }\n",
       "\n",
       "    .dataframe tbody tr th {\n",
       "        vertical-align: top;\n",
       "    }\n",
       "\n",
       "    .dataframe thead th {\n",
       "        text-align: right;\n",
       "    }\n",
       "</style>\n",
       "<table border=\"1\" class=\"dataframe\">\n",
       "  <thead>\n",
       "    <tr style=\"text-align: right;\">\n",
       "      <th></th>\n",
       "      <th>Accuracy</th>\n",
       "      <th>Precision</th>\n",
       "      <th>Recall</th>\n",
       "      <th>F1_Score</th>\n",
       "      <th>Fit_Time</th>\n",
       "      <th>FS_Time</th>\n",
       "      <th>Train_Time</th>\n",
       "      <th>Predict_Time</th>\n",
       "      <th>Score_Time</th>\n",
       "      <th>Number_Features</th>\n",
       "      <th>Test_Size</th>\n",
       "    </tr>\n",
       "  </thead>\n",
       "  <tbody>\n",
       "    <tr>\n",
       "      <th>0</th>\n",
       "      <td>0.744318</td>\n",
       "      <td>0.750008</td>\n",
       "      <td>0.744318</td>\n",
       "      <td>0.729242</td>\n",
       "      <td>3.248998</td>\n",
       "      <td>0.081002</td>\n",
       "      <td>3.167996</td>\n",
       "      <td>0.014001</td>\n",
       "      <td>0.027000</td>\n",
       "      <td>37.0</td>\n",
       "      <td>528.0</td>\n",
       "    </tr>\n",
       "    <tr>\n",
       "      <th>1</th>\n",
       "      <td>0.763258</td>\n",
       "      <td>0.778292</td>\n",
       "      <td>0.763258</td>\n",
       "      <td>0.752428</td>\n",
       "      <td>3.202003</td>\n",
       "      <td>0.137007</td>\n",
       "      <td>3.064997</td>\n",
       "      <td>0.009997</td>\n",
       "      <td>0.019996</td>\n",
       "      <td>35.0</td>\n",
       "      <td>528.0</td>\n",
       "    </tr>\n",
       "    <tr>\n",
       "      <th>2</th>\n",
       "      <td>0.746212</td>\n",
       "      <td>0.744440</td>\n",
       "      <td>0.746212</td>\n",
       "      <td>0.738833</td>\n",
       "      <td>3.563123</td>\n",
       "      <td>0.113998</td>\n",
       "      <td>3.449124</td>\n",
       "      <td>0.011990</td>\n",
       "      <td>0.028006</td>\n",
       "      <td>38.0</td>\n",
       "      <td>528.0</td>\n",
       "    </tr>\n",
       "    <tr>\n",
       "      <th>3</th>\n",
       "      <td>0.717803</td>\n",
       "      <td>0.714703</td>\n",
       "      <td>0.717803</td>\n",
       "      <td>0.709820</td>\n",
       "      <td>3.432001</td>\n",
       "      <td>0.138008</td>\n",
       "      <td>3.293993</td>\n",
       "      <td>0.012999</td>\n",
       "      <td>0.027005</td>\n",
       "      <td>37.0</td>\n",
       "      <td>528.0</td>\n",
       "    </tr>\n",
       "    <tr>\n",
       "      <th>4</th>\n",
       "      <td>0.729167</td>\n",
       "      <td>0.732460</td>\n",
       "      <td>0.729167</td>\n",
       "      <td>0.720097</td>\n",
       "      <td>3.744003</td>\n",
       "      <td>0.133008</td>\n",
       "      <td>3.610995</td>\n",
       "      <td>0.011997</td>\n",
       "      <td>0.028000</td>\n",
       "      <td>38.0</td>\n",
       "      <td>528.0</td>\n",
       "    </tr>\n",
       "    <tr>\n",
       "      <th>5</th>\n",
       "      <td>0.753788</td>\n",
       "      <td>0.760096</td>\n",
       "      <td>0.753788</td>\n",
       "      <td>0.742941</td>\n",
       "      <td>3.635010</td>\n",
       "      <td>0.135007</td>\n",
       "      <td>3.500002</td>\n",
       "      <td>0.011994</td>\n",
       "      <td>0.027997</td>\n",
       "      <td>37.0</td>\n",
       "      <td>528.0</td>\n",
       "    </tr>\n",
       "    <tr>\n",
       "      <th>6</th>\n",
       "      <td>0.753788</td>\n",
       "      <td>0.762215</td>\n",
       "      <td>0.753788</td>\n",
       "      <td>0.737890</td>\n",
       "      <td>3.400003</td>\n",
       "      <td>0.138007</td>\n",
       "      <td>3.261995</td>\n",
       "      <td>0.011997</td>\n",
       "      <td>0.027997</td>\n",
       "      <td>35.0</td>\n",
       "      <td>528.0</td>\n",
       "    </tr>\n",
       "    <tr>\n",
       "      <th>7</th>\n",
       "      <td>0.740530</td>\n",
       "      <td>0.738361</td>\n",
       "      <td>0.740530</td>\n",
       "      <td>0.734981</td>\n",
       "      <td>3.692002</td>\n",
       "      <td>0.135005</td>\n",
       "      <td>3.556997</td>\n",
       "      <td>0.010999</td>\n",
       "      <td>0.026998</td>\n",
       "      <td>37.0</td>\n",
       "      <td>528.0</td>\n",
       "    </tr>\n",
       "    <tr>\n",
       "      <th>8</th>\n",
       "      <td>0.729167</td>\n",
       "      <td>0.730206</td>\n",
       "      <td>0.729167</td>\n",
       "      <td>0.717306</td>\n",
       "      <td>3.685007</td>\n",
       "      <td>0.133004</td>\n",
       "      <td>3.552003</td>\n",
       "      <td>0.012991</td>\n",
       "      <td>0.029001</td>\n",
       "      <td>37.0</td>\n",
       "      <td>528.0</td>\n",
       "    </tr>\n",
       "    <tr>\n",
       "      <th>9</th>\n",
       "      <td>0.702652</td>\n",
       "      <td>0.706280</td>\n",
       "      <td>0.702652</td>\n",
       "      <td>0.696373</td>\n",
       "      <td>3.586007</td>\n",
       "      <td>0.134007</td>\n",
       "      <td>3.452000</td>\n",
       "      <td>0.013992</td>\n",
       "      <td>0.028003</td>\n",
       "      <td>37.0</td>\n",
       "      <td>528.0</td>\n",
       "    </tr>\n",
       "  </tbody>\n",
       "</table>\n",
       "</div>"
      ],
      "text/plain": [
       "   Accuracy  Precision    Recall  F1_Score  Fit_Time   FS_Time  Train_Time  \\\n",
       "0  0.744318   0.750008  0.744318  0.729242  3.248998  0.081002    3.167996   \n",
       "1  0.763258   0.778292  0.763258  0.752428  3.202003  0.137007    3.064997   \n",
       "2  0.746212   0.744440  0.746212  0.738833  3.563123  0.113998    3.449124   \n",
       "3  0.717803   0.714703  0.717803  0.709820  3.432001  0.138008    3.293993   \n",
       "4  0.729167   0.732460  0.729167  0.720097  3.744003  0.133008    3.610995   \n",
       "5  0.753788   0.760096  0.753788  0.742941  3.635010  0.135007    3.500002   \n",
       "6  0.753788   0.762215  0.753788  0.737890  3.400003  0.138007    3.261995   \n",
       "7  0.740530   0.738361  0.740530  0.734981  3.692002  0.135005    3.556997   \n",
       "8  0.729167   0.730206  0.729167  0.717306  3.685007  0.133004    3.552003   \n",
       "9  0.702652   0.706280  0.702652  0.696373  3.586007  0.134007    3.452000   \n",
       "\n",
       "   Predict_Time  Score_Time  Number_Features  Test_Size  \n",
       "0      0.014001    0.027000             37.0      528.0  \n",
       "1      0.009997    0.019996             35.0      528.0  \n",
       "2      0.011990    0.028006             38.0      528.0  \n",
       "3      0.012999    0.027005             37.0      528.0  \n",
       "4      0.011997    0.028000             38.0      528.0  \n",
       "5      0.011994    0.027997             37.0      528.0  \n",
       "6      0.011997    0.027997             35.0      528.0  \n",
       "7      0.010999    0.026998             37.0      528.0  \n",
       "8      0.012991    0.029001             37.0      528.0  \n",
       "9      0.013992    0.028003             37.0      528.0  "
      ]
     },
     "execution_count": 25,
     "metadata": {},
     "output_type": "execute_result"
    }
   ],
   "source": [
    "pfm"
   ]
  },
  {
   "cell_type": "code",
   "execution_count": 26,
   "metadata": {},
   "outputs": [
    {
     "data": {
      "text/plain": [
       "36.8"
      ]
     },
     "execution_count": 26,
     "metadata": {},
     "output_type": "execute_result"
    }
   ],
   "source": [
    "pfm[\"Number_Features\"].mean()"
   ]
  },
  {
   "cell_type": "code",
   "execution_count": 27,
   "metadata": {},
   "outputs": [
    {
     "data": {
      "text/plain": [
       "37.0"
      ]
     },
     "execution_count": 27,
     "metadata": {},
     "output_type": "execute_result"
    }
   ],
   "source": [
    "pfm[\"Number_Features\"].mean().round()"
   ]
  },
  {
   "cell_type": "code",
   "execution_count": 28,
   "metadata": {},
   "outputs": [
    {
     "data": {
      "text/plain": [
       "36"
      ]
     },
     "execution_count": 28,
     "metadata": {},
     "output_type": "execute_result"
    }
   ],
   "source": [
    "pfm[\"Number_Features\"].mean().astype(\"int\")"
   ]
  },
  {
   "cell_type": "code",
   "execution_count": 29,
   "metadata": {},
   "outputs": [
    {
     "data": {
      "text/plain": [
       "3.518815588951111"
      ]
     },
     "execution_count": 29,
     "metadata": {},
     "output_type": "execute_result"
    }
   ],
   "source": [
    "pfm[\"Fit_Time\"].mean()"
   ]
  }
 ],
 "metadata": {
  "kernelspec": {
   "display_name": "Python 3.8.5 ('base')",
   "language": "python",
   "name": "python3"
  },
  "language_info": {
   "codemirror_mode": {
    "name": "ipython",
    "version": 3
   },
   "file_extension": ".py",
   "mimetype": "text/x-python",
   "name": "python",
   "nbconvert_exporter": "python",
   "pygments_lexer": "ipython3",
   "version": "3.8.5"
  },
  "orig_nbformat": 2,
  "vscode": {
   "interpreter": {
    "hash": "7ea4d93c12037c275ca7c637f7903e3ca4403fc10b1710bb9f47b6691d9182f8"
   }
  }
 },
 "nbformat": 4,
 "nbformat_minor": 2
}
