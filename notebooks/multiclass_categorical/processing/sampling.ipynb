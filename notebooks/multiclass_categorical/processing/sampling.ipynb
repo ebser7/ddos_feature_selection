{
 "metadata": {
  "language_info": {
   "codemirror_mode": {
    "name": "ipython",
    "version": 3
   },
   "file_extension": ".py",
   "mimetype": "text/x-python",
   "name": "python",
   "nbconvert_exporter": "python",
   "pygments_lexer": "ipython3",
   "version": "3.8.5-final"
  },
  "orig_nbformat": 2,
  "kernelspec": {
   "name": "python3",
   "display_name": "Python 3",
   "language": "python"
  }
 },
 "nbformat": 4,
 "nbformat_minor": 2,
 "cells": [
  {
   "source": [
    "# Sampling multiclass datasets"
   ],
   "cell_type": "markdown",
   "metadata": {}
  },
  {
   "cell_type": "code",
   "execution_count": null,
   "metadata": {},
   "outputs": [],
   "source": [
    "import pandas as pd\n",
    "import os\n",
    "import time"
   ]
  },
  {
   "cell_type": "code",
   "execution_count": null,
   "metadata": {},
   "outputs": [],
   "source": [
    "start = time.time()\n",
    "\n",
    "sample_size = int((12 * 22 * 20)/12)\n",
    "\n",
    "root = '../../../'\n",
    "\n",
    "# subtract 1 because of TFTP_shrinked.csv\n",
    "n_files = len(os.listdir(root + 'datasets/base/')) - 1\n",
    "\n",
    "for file in os.listdir(root + 'datasets/base/'):\n",
    "    if file.endswith(\".csv\"):\n",
    "        if file != \"TFTP.csv\": # ignore TFTP_shrinked.csv\n",
    "            df = pd.read_csv(root + 'datasets/base/' + file, index_col=[0])\n",
    "\n",
    "            labels = []\n",
    "            for label in df[' Label'].unique():\n",
    "                if label != 'WebDDoS':\n",
    "                    df_filtered = df[df[' Label'] == label]\n",
    "                    if label != 'BENIGN':\n",
    "                        df_label = df_filtered.sample(n=sample_size, replace=True, random_state=42)\n",
    "                    else:\n",
    "                        df_label = df_filtered.sample(n=round(sample_size/n_files),\n",
    "                                                        replace=True, random_state=42)\n",
    "                    labels.append(df_label)\n",
    "\n",
    "            df_sampled = pd.concat(labels)\n",
    "            sampled_filename = root + 'datasets/multiclass/samples/' + file.split('.')[0] + '_sampled.csv'\n",
    "            df_sampled.to_csv(sampled_filename)\n",
    "\n",
    "end = time.time()"
   ]
  },
  {
   "cell_type": "code",
   "execution_count": null,
   "metadata": {},
   "outputs": [],
   "source": [
    "minutes = (end - start)/60\n",
    "print(f\"Elapsed minutes: {minutes:.2f}\")"
   ]
  }
 ]
}