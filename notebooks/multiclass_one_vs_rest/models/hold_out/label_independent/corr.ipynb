{
 "cells": [
  {
   "cell_type": "code",
   "execution_count": 1,
   "metadata": {},
   "outputs": [],
   "source": [
    "import pandas as pd\n",
    "import matplotlib.pyplot as plt\n",
    "from sklearn.model_selection import train_test_split # split  data into training and testing sets\n",
    "from sklearn.metrics import plot_confusion_matrix # draws a confusion matrix\n",
    "from sklearn.metrics import accuracy_score, precision_score, recall_score, f1_score\n",
    "from sklearn.metrics import classification_report\n",
    "from sklearn.multiclass import OneVsRestClassifier\n",
    "import xgboost as xgb\n",
    "import time\n",
    "import pickle"
   ]
  },
  {
   "cell_type": "code",
   "execution_count": 2,
   "metadata": {},
   "outputs": [],
   "source": [
    "root = \"../../../../../\""
   ]
  },
  {
   "cell_type": "code",
   "execution_count": 3,
   "metadata": {},
   "outputs": [],
   "source": [
    "df = pd.read_csv(root + \"datasets/multiclass/processed/CICDDoS_basic.csv\", index_col=[0])"
   ]
  },
  {
   "cell_type": "code",
   "execution_count": 4,
   "metadata": {},
   "outputs": [
    {
     "data": {
      "text/html": [
       "<div>\n",
       "<style scoped>\n",
       "    .dataframe tbody tr th:only-of-type {\n",
       "        vertical-align: middle;\n",
       "    }\n",
       "\n",
       "    .dataframe tbody tr th {\n",
       "        vertical-align: top;\n",
       "    }\n",
       "\n",
       "    .dataframe thead th {\n",
       "        text-align: right;\n",
       "    }\n",
       "</style>\n",
       "<table border=\"1\" class=\"dataframe\">\n",
       "  <thead>\n",
       "    <tr style=\"text-align: right;\">\n",
       "      <th></th>\n",
       "      <th>Flow Duration</th>\n",
       "      <th>Total Fwd Packets</th>\n",
       "      <th>Total Backward Packets</th>\n",
       "      <th>Total Length of Fwd Packets</th>\n",
       "      <th>Total Length of Bwd Packets</th>\n",
       "      <th>Fwd Packet Length Max</th>\n",
       "      <th>Fwd Packet Length Min</th>\n",
       "      <th>Fwd Packet Length Mean</th>\n",
       "      <th>Fwd Packet Length Std</th>\n",
       "      <th>Bwd Packet Length Max</th>\n",
       "      <th>...</th>\n",
       "      <th>min_seg_size_forward</th>\n",
       "      <th>Active Mean</th>\n",
       "      <th>Active Std</th>\n",
       "      <th>Active Max</th>\n",
       "      <th>Active Min</th>\n",
       "      <th>Idle Mean</th>\n",
       "      <th>Idle Std</th>\n",
       "      <th>Idle Max</th>\n",
       "      <th>Idle Min</th>\n",
       "      <th>Label</th>\n",
       "    </tr>\n",
       "  </thead>\n",
       "  <tbody>\n",
       "    <tr>\n",
       "      <th>0</th>\n",
       "      <td>1.0</td>\n",
       "      <td>2.0</td>\n",
       "      <td>0.0</td>\n",
       "      <td>2736.0</td>\n",
       "      <td>0.0</td>\n",
       "      <td>1368.0</td>\n",
       "      <td>1368.0</td>\n",
       "      <td>1368.0</td>\n",
       "      <td>0.0</td>\n",
       "      <td>0.0</td>\n",
       "      <td>...</td>\n",
       "      <td>1.0</td>\n",
       "      <td>0.0</td>\n",
       "      <td>0.0</td>\n",
       "      <td>0.0</td>\n",
       "      <td>0.0</td>\n",
       "      <td>0.0</td>\n",
       "      <td>0.0</td>\n",
       "      <td>0.0</td>\n",
       "      <td>0.0</td>\n",
       "      <td>DrDoS_DNS</td>\n",
       "    </tr>\n",
       "    <tr>\n",
       "      <th>1</th>\n",
       "      <td>1.0</td>\n",
       "      <td>2.0</td>\n",
       "      <td>0.0</td>\n",
       "      <td>2650.0</td>\n",
       "      <td>0.0</td>\n",
       "      <td>1325.0</td>\n",
       "      <td>1325.0</td>\n",
       "      <td>1325.0</td>\n",
       "      <td>0.0</td>\n",
       "      <td>0.0</td>\n",
       "      <td>...</td>\n",
       "      <td>0.0</td>\n",
       "      <td>0.0</td>\n",
       "      <td>0.0</td>\n",
       "      <td>0.0</td>\n",
       "      <td>0.0</td>\n",
       "      <td>0.0</td>\n",
       "      <td>0.0</td>\n",
       "      <td>0.0</td>\n",
       "      <td>0.0</td>\n",
       "      <td>DrDoS_DNS</td>\n",
       "    </tr>\n",
       "    <tr>\n",
       "      <th>2</th>\n",
       "      <td>2.0</td>\n",
       "      <td>2.0</td>\n",
       "      <td>0.0</td>\n",
       "      <td>2944.0</td>\n",
       "      <td>0.0</td>\n",
       "      <td>1472.0</td>\n",
       "      <td>1472.0</td>\n",
       "      <td>1472.0</td>\n",
       "      <td>0.0</td>\n",
       "      <td>0.0</td>\n",
       "      <td>...</td>\n",
       "      <td>14.0</td>\n",
       "      <td>0.0</td>\n",
       "      <td>0.0</td>\n",
       "      <td>0.0</td>\n",
       "      <td>0.0</td>\n",
       "      <td>0.0</td>\n",
       "      <td>0.0</td>\n",
       "      <td>0.0</td>\n",
       "      <td>0.0</td>\n",
       "      <td>DrDoS_DNS</td>\n",
       "    </tr>\n",
       "    <tr>\n",
       "      <th>3</th>\n",
       "      <td>46.0</td>\n",
       "      <td>2.0</td>\n",
       "      <td>0.0</td>\n",
       "      <td>2944.0</td>\n",
       "      <td>0.0</td>\n",
       "      <td>1472.0</td>\n",
       "      <td>1472.0</td>\n",
       "      <td>1472.0</td>\n",
       "      <td>0.0</td>\n",
       "      <td>0.0</td>\n",
       "      <td>...</td>\n",
       "      <td>1.0</td>\n",
       "      <td>0.0</td>\n",
       "      <td>0.0</td>\n",
       "      <td>0.0</td>\n",
       "      <td>0.0</td>\n",
       "      <td>0.0</td>\n",
       "      <td>0.0</td>\n",
       "      <td>0.0</td>\n",
       "      <td>0.0</td>\n",
       "      <td>DrDoS_DNS</td>\n",
       "    </tr>\n",
       "    <tr>\n",
       "      <th>4</th>\n",
       "      <td>1.0</td>\n",
       "      <td>2.0</td>\n",
       "      <td>0.0</td>\n",
       "      <td>2944.0</td>\n",
       "      <td>0.0</td>\n",
       "      <td>1472.0</td>\n",
       "      <td>1472.0</td>\n",
       "      <td>1472.0</td>\n",
       "      <td>0.0</td>\n",
       "      <td>0.0</td>\n",
       "      <td>...</td>\n",
       "      <td>1.0</td>\n",
       "      <td>0.0</td>\n",
       "      <td>0.0</td>\n",
       "      <td>0.0</td>\n",
       "      <td>0.0</td>\n",
       "      <td>0.0</td>\n",
       "      <td>0.0</td>\n",
       "      <td>0.0</td>\n",
       "      <td>0.0</td>\n",
       "      <td>DrDoS_DNS</td>\n",
       "    </tr>\n",
       "  </tbody>\n",
       "</table>\n",
       "<p>5 rows × 62 columns</p>\n",
       "</div>"
      ],
      "text/plain": [
       "    Flow Duration   Total Fwd Packets   Total Backward Packets  \\\n",
       "0             1.0                 2.0                      0.0   \n",
       "1             1.0                 2.0                      0.0   \n",
       "2             2.0                 2.0                      0.0   \n",
       "3            46.0                 2.0                      0.0   \n",
       "4             1.0                 2.0                      0.0   \n",
       "\n",
       "   Total Length of Fwd Packets   Total Length of Bwd Packets  \\\n",
       "0                       2736.0                           0.0   \n",
       "1                       2650.0                           0.0   \n",
       "2                       2944.0                           0.0   \n",
       "3                       2944.0                           0.0   \n",
       "4                       2944.0                           0.0   \n",
       "\n",
       "    Fwd Packet Length Max   Fwd Packet Length Min   Fwd Packet Length Mean  \\\n",
       "0                  1368.0                  1368.0                   1368.0   \n",
       "1                  1325.0                  1325.0                   1325.0   \n",
       "2                  1472.0                  1472.0                   1472.0   \n",
       "3                  1472.0                  1472.0                   1472.0   \n",
       "4                  1472.0                  1472.0                   1472.0   \n",
       "\n",
       "    Fwd Packet Length Std  Bwd Packet Length Max  ...   min_seg_size_forward  \\\n",
       "0                     0.0                    0.0  ...                    1.0   \n",
       "1                     0.0                    0.0  ...                    0.0   \n",
       "2                     0.0                    0.0  ...                   14.0   \n",
       "3                     0.0                    0.0  ...                    1.0   \n",
       "4                     0.0                    0.0  ...                    1.0   \n",
       "\n",
       "   Active Mean   Active Std   Active Max   Active Min  Idle Mean   Idle Std  \\\n",
       "0          0.0          0.0          0.0          0.0        0.0        0.0   \n",
       "1          0.0          0.0          0.0          0.0        0.0        0.0   \n",
       "2          0.0          0.0          0.0          0.0        0.0        0.0   \n",
       "3          0.0          0.0          0.0          0.0        0.0        0.0   \n",
       "4          0.0          0.0          0.0          0.0        0.0        0.0   \n",
       "\n",
       "    Idle Max   Idle Min      Label  \n",
       "0        0.0        0.0  DrDoS_DNS  \n",
       "1        0.0        0.0  DrDoS_DNS  \n",
       "2        0.0        0.0  DrDoS_DNS  \n",
       "3        0.0        0.0  DrDoS_DNS  \n",
       "4        0.0        0.0  DrDoS_DNS  \n",
       "\n",
       "[5 rows x 62 columns]"
      ]
     },
     "execution_count": 4,
     "metadata": {},
     "output_type": "execute_result"
    }
   ],
   "source": [
    "df.head()"
   ]
  },
  {
   "cell_type": "code",
   "execution_count": 5,
   "metadata": {},
   "outputs": [],
   "source": [
    "X = df.drop(columns=[' Label'])\n",
    "y = df[' Label']"
   ]
  },
  {
   "cell_type": "code",
   "execution_count": 6,
   "metadata": {},
   "outputs": [],
   "source": [
    "input_features = len(X.columns)"
   ]
  },
  {
   "cell_type": "code",
   "execution_count": 7,
   "metadata": {},
   "outputs": [],
   "source": [
    "X_train, X_test, y_train, y_test = train_test_split(X, y, train_size=0.9, random_state=42, stratify=y)"
   ]
  },
  {
   "cell_type": "markdown",
   "metadata": {},
   "source": [
    "___\n",
    "# Remove correlated features (keeping one of them)"
   ]
  },
  {
   "cell_type": "code",
   "execution_count": 8,
   "metadata": {},
   "outputs": [
    {
     "name": "stderr",
     "output_type": "stream",
     "text": [
      "c:\\Users\\pedro\\miniconda3\\lib\\site-packages\\pandas\\core\\frame.py:4305: SettingWithCopyWarning: \n",
      "A value is trying to be set on a copy of a slice from a DataFrame\n",
      "\n",
      "See the caveats in the documentation: https://pandas.pydata.org/pandas-docs/stable/user_guide/indexing.html#returning-a-view-versus-a-copy\n",
      "  return super().drop(\n"
     ]
    }
   ],
   "source": [
    "start = time.time()\n",
    "# Feature Selection\n",
    "fs_start = time.time()\n",
    "corrmat = X_train.corr()\n",
    "corrmat = corrmat.abs().unstack() # absolute value of corr coef\n",
    "corrmat = corrmat.sort_values(ascending=False)\n",
    "corrmat = corrmat[corrmat > 0.9]\n",
    "corrmat = corrmat[corrmat < 1]\n",
    "corrmat = pd.DataFrame(corrmat).reset_index()\n",
    "corrmat.columns = ['feature1', 'feature2', 'corr']\n",
    "\n",
    "grouped_feature_ls = []\n",
    "correlated_groups = []\n",
    "\n",
    "for feature in corrmat.feature1.unique():    \n",
    "    if feature not in grouped_feature_ls:\n",
    "        # find all features correlated to a single feature\n",
    "        correlated_block = corrmat[corrmat.feature1 == feature]\n",
    "        grouped_feature_ls = grouped_feature_ls + list(correlated_block.feature2.unique()) + [feature]\n",
    "        # append the block of features to the list\n",
    "        correlated_groups.append(correlated_block)\n",
    "\n",
    "group_head = []\n",
    "\n",
    "for group in correlated_groups:\n",
    "    group_head.append(group.iloc[0,0])\n",
    "\n",
    "features_to_remove = [feature for feature in grouped_feature_ls if feature not in group_head]\n",
    "\n",
    "X_train.drop(columns=features_to_remove, inplace=True)\n",
    "X_test.drop(columns=features_to_remove, inplace=True)\n",
    "fs_end = time.time()"
   ]
  },
  {
   "cell_type": "markdown",
   "metadata": {},
   "source": [
    "___\n",
    "# Training a model"
   ]
  },
  {
   "cell_type": "code",
   "execution_count": 9,
   "metadata": {},
   "outputs": [
    {
     "name": "stderr",
     "output_type": "stream",
     "text": [
      "c:\\Users\\pedro\\miniconda3\\lib\\site-packages\\xgboost\\sklearn.py:892: UserWarning: The use of label encoder in XGBClassifier is deprecated and will be removed in a future release. To remove this warning, do the following: 1) Pass option use_label_encoder=False when constructing XGBClassifier object; and 2) Encode your labels (y) as integers starting with 0, i.e. 0, 1, 2, ..., [num_class - 1].\n",
      "  warnings.warn(label_encoder_deprecation_msg, UserWarning)\n"
     ]
    }
   ],
   "source": [
    "# Training the model\n",
    "train_start = time.time()\n",
    "clf_xgb = xgb.XGBClassifier(eval_metric=\"logloss\", seed=42)\n",
    "# clf_xgb.fit(X_train, \n",
    "#             y_train,\n",
    "#             # verbose=True,\n",
    "#             ## the next three arguments set up early stopping.\n",
    "#             early_stopping_rounds=5,\n",
    "#             eval_metric='logloss',\n",
    "#             eval_set=[(X_test, y_test)])\n",
    "ovr = OneVsRestClassifier(clf_xgb)\n",
    "#clf_xgb.fit(X_train, y_train)\n",
    "ovr.fit(X_train, y_train)\n",
    "train_end = time.time()\n",
    "end = time.time()"
   ]
  },
  {
   "cell_type": "code",
   "execution_count": 10,
   "metadata": {},
   "outputs": [],
   "source": [
    "fs_time = (fs_end - fs_start)\n",
    "train_time = (train_end - train_start)\n",
    "fit_time = (end - start)"
   ]
  },
  {
   "cell_type": "code",
   "execution_count": 11,
   "metadata": {},
   "outputs": [],
   "source": [
    "output_features = len(X_train.columns)"
   ]
  },
  {
   "cell_type": "code",
   "execution_count": 12,
   "metadata": {},
   "outputs": [
    {
     "data": {
      "image/png": "[encoded data removed]",
      "text/plain": [
       "<Figure size 432x288 with 2 Axes>"
      ]
     },
     "metadata": {
      "needs_background": "light"
     },
     "output_type": "display_data"
    }
   ],
   "source": [
    "plot_confusion_matrix(ovr, \n",
    "                      X_test.values,\n",
    "                      y_test,\n",
    "                      values_format='d',\n",
    "                      xticks_rotation='vertical')\n",
    "plt.savefig(root + 'pictures/multiclass_one_vs_rest/label_independent/confusion_matrix_corr.pdf', bbox_inches='tight')"
   ]
  },
  {
   "cell_type": "code",
   "execution_count": 13,
   "metadata": {},
   "outputs": [],
   "source": [
    "y_pred = ovr.predict(X_test.values)\n",
    "\n",
    "accuracy = accuracy_score(y_test, y_pred)\n",
    "precision = precision_score(y_test, y_pred, average=\"macro\")\n",
    "recall = recall_score(y_test, y_pred, average='macro')\n",
    "f1score = f1_score(y_test, y_pred, average='macro')"
   ]
  },
  {
   "cell_type": "code",
   "execution_count": 14,
   "metadata": {},
   "outputs": [],
   "source": [
    "pfm = pd.DataFrame([\"Correlation\", accuracy, precision, recall, f1score,\n",
    "                    fit_time, fs_time, train_time, input_features, output_features])\n",
    "pfm = pfm.T\n",
    "pfm.columns = [\"Method\", \"Accuracy\", \"Precision\", \"Recall\", \"F1_Score\", \n",
    "                \"Fit_Time\", \"FS_Time\", \"Train_Time\", \"Input_Features\", \"Output_Features\"]\n",
    "\n",
    "filename = root + \"pickles/multiclass_one_vs_rest/hold_out/label_independent/corr.pkl\"\n",
    "outfile = open(filename, 'wb')\n",
    "pickle.dump(pfm, outfile)\n",
    "outfile.close()"
   ]
  },
  {
   "cell_type": "code",
   "execution_count": 15,
   "metadata": {},
   "outputs": [
    {
     "name": "stdout",
     "output_type": "stream",
     "text": [
      "               precision    recall  f1-score   support\n",
      "\n",
      "       BENIGN   1.000000  1.000000  1.000000        44\n",
      "    DrDoS_DNS   0.714286  0.454545  0.555556        44\n",
      "   DrDoS_LDAP   0.566038  0.681818  0.618557        44\n",
      "  DrDoS_MSSQL   0.888889  0.909091  0.898876        44\n",
      "    DrDoS_NTP   0.936170  1.000000  0.967033        44\n",
      "DrDoS_NetBIOS   0.895833  0.977273  0.934783        44\n",
      "   DrDoS_SNMP   0.653061  0.727273  0.688172        44\n",
      "   DrDoS_SSDP   0.439024  0.409091  0.423529        44\n",
      "    DrDoS_UDP   0.511628  0.500000  0.505747        44\n",
      "          Syn   0.588235  0.909091  0.714286        44\n",
      "         TFTP   1.000000  1.000000  1.000000        44\n",
      "      UDP-lag   0.666667  0.272727  0.387097        44\n",
      "\n",
      "     accuracy                       0.736742       528\n",
      "    macro avg   0.738319  0.736742  0.724470       528\n",
      " weighted avg   0.738319  0.736742  0.724470       528\n",
      "\n"
     ]
    }
   ],
   "source": [
    "print(classification_report(y_test, y_pred, digits=6))"
   ]
  }
 ],
 "metadata": {
  "kernelspec": {
   "display_name": "Python 3.8.5 ('base')",
   "language": "python",
   "name": "python3"
  },
  "language_info": {
   "codemirror_mode": {
    "name": "ipython",
    "version": 3
   },
   "file_extension": ".py",
   "mimetype": "text/x-python",
   "name": "python",
   "nbconvert_exporter": "python",
   "pygments_lexer": "ipython3",
   "version": "3.8.5"
  },
  "orig_nbformat": 2,
  "vscode": {
   "interpreter": {
    "hash": "7ea4d93c12037c275ca7c637f7903e3ca4403fc10b1710bb9f47b6691d9182f8"
   }
  }
 },
 "nbformat": 4,
 "nbformat_minor": 2
}
