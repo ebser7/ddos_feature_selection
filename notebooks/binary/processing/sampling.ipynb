{
 "metadata": {
  "language_info": {
   "codemirror_mode": {
    "name": "ipython",
    "version": 3
   },
   "file_extension": ".py",
   "mimetype": "text/x-python",
   "name": "python",
   "nbconvert_exporter": "python",
   "pygments_lexer": "ipython3",
   "version": "3.8.5-final"
  },
  "orig_nbformat": 2,
  "kernelspec": {
   "name": "python3",
   "display_name": "Python 3",
   "language": "python"
  }
 },
 "nbformat": 4,
 "nbformat_minor": 2,
 "cells": [
  {
   "source": [
    "# Sampling binary datasets"
   ],
   "cell_type": "markdown",
   "metadata": {}
  },
  {
   "cell_type": "code",
   "execution_count": 3,
   "metadata": {},
   "outputs": [],
   "source": [
    "import pandas as pd\n",
    "import os\n",
    "import time"
   ]
  },
  {
   "cell_type": "code",
   "execution_count": 4,
   "metadata": {},
   "outputs": [
    {
     "output_type": "stream",
     "name": "stderr",
     "text": [
      "C:\\Users\\pedro\\AppData\\Roaming\\Python\\Python38\\site-packages\\IPython\\core\\interactiveshell.py:3146: DtypeWarning: Columns (85) have mixed types.Specify dtype option on import or set low_memory=False.\n  has_raised = await self.run_ast_nodes(code_ast.body, cell_name,\nC:\\Users\\pedro\\miniconda3\\lib\\site-packages\\numpy\\lib\\arraysetops.py:580: FutureWarning: elementwise comparison failed; returning scalar instead, but in the future will perform elementwise comparison\n  mask |= (ar1 == a)\n"
     ]
    }
   ],
   "source": [
    "start = time.time()\n",
    "\n",
    "sample_size = int((12 * 22 * 20)/22)\n",
    "\n",
    "root = '../../../'\n",
    "\n",
    "for file in os.listdir(root + 'datasets/base/'):\n",
    "    if file.endswith(\".csv\"):\n",
    "        if file != \"TFTP.csv\": # ignore TFTP_shrinked.csv\n",
    "            df = pd.read_csv(root + 'datasets/base/' + file, index_col=[0])\n",
    "\n",
    "            labels = []\n",
    "            for label in df[' Label'].unique():\n",
    "                if label != 'WebDDoS':\n",
    "                    df_filtered = df[df[' Label'] == label]                    \n",
    "                    df_label = df_filtered.sample(n=sample_size, replace=True, random_state=42)\n",
    "                    labels.append(df_label)\n",
    "\n",
    "            df_sampled = pd.concat(labels)\n",
    "            sampled_filename = root + 'datasets/binary/samples/' + file.split('.')[0] + '_sampled.csv'\n",
    "            df_sampled.to_csv(sampled_filename)\n",
    "\n",
    "end = time.time()"
   ]
  },
  {
   "cell_type": "code",
   "execution_count": 5,
   "metadata": {},
   "outputs": [
    {
     "output_type": "stream",
     "name": "stdout",
     "text": [
      "Elapsed minutes: 10.21\n"
     ]
    }
   ],
   "source": [
    "minutes = (end - start)/60\n",
    "print(f\"Elapsed minutes: {minutes:.2f}\")"
   ]
  }
 ]
}